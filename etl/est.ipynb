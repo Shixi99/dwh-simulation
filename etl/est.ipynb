{
 "cells": [
  {
   "attachments": {},
   "cell_type": "markdown",
   "metadata": {},
   "source": [
    "## Imports"
   ]
  },
  {
   "cell_type": "code",
   "execution_count": 1,
   "metadata": {},
   "outputs": [],
   "source": [
    "import time\n",
    "import names\n",
    "import random\n",
    "import pathlib\n",
    "import numpy as np\n",
    "import pandas as pd\n",
    "import pandasql as pds\n",
    "\n",
    "from datetime import datetime\n",
    "from faker import Faker\n",
    "from scraping import whisky_web_scraping\n",
    "\n",
    "\n",
    "faker = Faker()"
   ]
  },
  {
   "attachments": {},
   "cell_type": "markdown",
   "metadata": {},
   "source": [
    "## Scraping data and writing into file"
   ]
  },
  {
   "cell_type": "code",
   "execution_count": 4,
   "metadata": {},
   "outputs": [],
   "source": [
    "whisky_obj = whisky_web_scraping()\n",
    "product_df_from_site = whisky_obj.scrape_whisky(number_of_pages=5)"
   ]
  },
  {
   "cell_type": "code",
   "execution_count": null,
   "metadata": {},
   "outputs": [],
   "source": [
    "product_df_from_site_copy = product_df_from_site.copy()"
   ]
  },
  {
   "cell_type": "code",
   "execution_count": null,
   "metadata": {},
   "outputs": [],
   "source": [
    "# creating directory for output\n",
    "CURRENT_DIR = pathlib.Path().resolve()\n",
    "OUTPUT_DIR = CURRENT_DIR / \"whiskey_data\"\n",
    "OUTPUT_DIR.mkdir(exist_ok=True, parents=True)"
   ]
  },
  {
   "cell_type": "code",
   "execution_count": 6,
   "metadata": {},
   "outputs": [],
   "source": [
    "product_df_from_site_copy.to_csv('D:\\Projects\\Retail Sales DWH\\etl\\whiskey_data\\whiskey_data.csv')"
   ]
  },
  {
   "cell_type": "code",
   "execution_count": null,
   "metadata": {},
   "outputs": [
    {
     "name": "stdout",
     "output_type": "stream",
     "text": [
      "<class 'pandas.core.frame.DataFrame'>\n",
      "RangeIndex: 4382 entries, 0 to 4381\n",
      "Data columns (total 4 columns):\n",
      " #   Column           Non-Null Count  Dtype \n",
      "---  ------           --------------  ----- \n",
      " 0   Product_Name     4382 non-null   object\n",
      " 1   Alcohol_Percent  4382 non-null   object\n",
      " 2   Alcohol_Amount   4382 non-null   object\n",
      " 3   Alcohol_Price    4382 non-null   object\n",
      "dtypes: object(4)\n",
      "memory usage: 137.1+ KB\n"
     ]
    }
   ],
   "source": [
    "product_df_from_site_copy.info()"
   ]
  },
  {
   "cell_type": "code",
   "execution_count": null,
   "metadata": {},
   "outputs": [
    {
     "data": {
      "text/html": [
       "<div>\n",
       "<style scoped>\n",
       "    .dataframe tbody tr th:only-of-type {\n",
       "        vertical-align: middle;\n",
       "    }\n",
       "\n",
       "    .dataframe tbody tr th {\n",
       "        vertical-align: top;\n",
       "    }\n",
       "\n",
       "    .dataframe thead th {\n",
       "        text-align: right;\n",
       "    }\n",
       "</style>\n",
       "<table border=\"1\" class=\"dataframe\">\n",
       "  <thead>\n",
       "    <tr style=\"text-align: right;\">\n",
       "      <th></th>\n",
       "      <th>Product_Name</th>\n",
       "      <th>Alcohol_Percent</th>\n",
       "      <th>Alcohol_Amount</th>\n",
       "      <th>Alcohol_Price</th>\n",
       "    </tr>\n",
       "  </thead>\n",
       "  <tbody>\n",
       "    <tr>\n",
       "      <th>0</th>\n",
       "      <td>Glen Scotia Victoriana</td>\n",
       "      <td>54.2</td>\n",
       "      <td>70</td>\n",
       "      <td>72.95</td>\n",
       "    </tr>\n",
       "    <tr>\n",
       "      <th>1</th>\n",
       "      <td>Glen Scotia Double Cask</td>\n",
       "      <td>46</td>\n",
       "      <td>70</td>\n",
       "      <td>48.95</td>\n",
       "    </tr>\n",
       "    <tr>\n",
       "      <th>2</th>\n",
       "      <td>Glen Scotia Double Cask</td>\n",
       "      <td>46</td>\n",
       "      <td>70</td>\n",
       "      <td>39.95</td>\n",
       "    </tr>\n",
       "    <tr>\n",
       "      <th>3</th>\n",
       "      <td>Glen Scotia 12 Year Old Seasonal Release</td>\n",
       "      <td>53.3</td>\n",
       "      <td>70</td>\n",
       "      <td>79.95</td>\n",
       "    </tr>\n",
       "    <tr>\n",
       "      <th>4</th>\n",
       "      <td>Glen Scotia 15 Year Old</td>\n",
       "      <td>46</td>\n",
       "      <td>70</td>\n",
       "      <td>64.95</td>\n",
       "    </tr>\n",
       "  </tbody>\n",
       "</table>\n",
       "</div>"
      ],
      "text/plain": [
       "                               Product_Name Alcohol_Percent Alcohol_Amount  \\\n",
       "0                    Glen Scotia Victoriana            54.2             70   \n",
       "1                   Glen Scotia Double Cask              46             70   \n",
       "2                   Glen Scotia Double Cask              46             70   \n",
       "3  Glen Scotia 12 Year Old Seasonal Release            53.3             70   \n",
       "4                   Glen Scotia 15 Year Old              46             70   \n",
       "\n",
       "  Alcohol_Price  \n",
       "0         72.95  \n",
       "1         48.95  \n",
       "2         39.95  \n",
       "3         79.95  \n",
       "4         64.95  "
      ]
     },
     "execution_count": 7,
     "metadata": {},
     "output_type": "execute_result"
    }
   ],
   "source": [
    "product_df_from_site_copy.head()"
   ]
  },
  {
   "attachments": {},
   "cell_type": "markdown",
   "metadata": {},
   "source": [
    "## Generating random data"
   ]
  },
  {
   "cell_type": "markdown",
   "metadata": {},
   "source": [
    "### Generating product data"
   ]
  },
  {
   "cell_type": "code",
   "execution_count": 73,
   "metadata": {},
   "outputs": [],
   "source": [
    "product_df_from_file = pd.read_csv('D:\\Projects\\Retail Sales DWH\\etl\\whiskey_data\\whiskey_data.csv', index_col='Unnamed: 0')"
   ]
  },
  {
   "cell_type": "code",
   "execution_count": 74,
   "metadata": {},
   "outputs": [],
   "source": [
    "product_df = product_df_from_file.copy() "
   ]
  },
  {
   "cell_type": "code",
   "execution_count": 75,
   "metadata": {},
   "outputs": [
    {
     "data": {
      "text/html": [
       "<div>\n",
       "<style scoped>\n",
       "    .dataframe tbody tr th:only-of-type {\n",
       "        vertical-align: middle;\n",
       "    }\n",
       "\n",
       "    .dataframe tbody tr th {\n",
       "        vertical-align: top;\n",
       "    }\n",
       "\n",
       "    .dataframe thead th {\n",
       "        text-align: right;\n",
       "    }\n",
       "</style>\n",
       "<table border=\"1\" class=\"dataframe\">\n",
       "  <thead>\n",
       "    <tr style=\"text-align: right;\">\n",
       "      <th></th>\n",
       "      <th>Product_Name</th>\n",
       "      <th>Alcohol_Percent</th>\n",
       "      <th>Alcohol_Amount</th>\n",
       "      <th>Alcohol_Price</th>\n",
       "    </tr>\n",
       "  </thead>\n",
       "  <tbody>\n",
       "    <tr>\n",
       "      <th>0</th>\n",
       "      <td>Glen Scotia Victoriana</td>\n",
       "      <td>54.2</td>\n",
       "      <td>70.0</td>\n",
       "      <td>72.95</td>\n",
       "    </tr>\n",
       "    <tr>\n",
       "      <th>1</th>\n",
       "      <td>Glen Scotia Double Cask</td>\n",
       "      <td>46.0</td>\n",
       "      <td>70.0</td>\n",
       "      <td>48.95</td>\n",
       "    </tr>\n",
       "    <tr>\n",
       "      <th>2</th>\n",
       "      <td>Glen Scotia Double Cask</td>\n",
       "      <td>46.0</td>\n",
       "      <td>70.0</td>\n",
       "      <td>39.95</td>\n",
       "    </tr>\n",
       "    <tr>\n",
       "      <th>3</th>\n",
       "      <td>Glen Scotia 12 Year Old Seasonal Release</td>\n",
       "      <td>53.3</td>\n",
       "      <td>70.0</td>\n",
       "      <td>79.95</td>\n",
       "    </tr>\n",
       "    <tr>\n",
       "      <th>4</th>\n",
       "      <td>Glen Scotia 15 Year Old</td>\n",
       "      <td>46.0</td>\n",
       "      <td>70.0</td>\n",
       "      <td>64.95</td>\n",
       "    </tr>\n",
       "  </tbody>\n",
       "</table>\n",
       "</div>"
      ],
      "text/plain": [
       "                               Product_Name  Alcohol_Percent  Alcohol_Amount  \\\n",
       "0                    Glen Scotia Victoriana             54.2            70.0   \n",
       "1                   Glen Scotia Double Cask             46.0            70.0   \n",
       "2                   Glen Scotia Double Cask             46.0            70.0   \n",
       "3  Glen Scotia 12 Year Old Seasonal Release             53.3            70.0   \n",
       "4                   Glen Scotia 15 Year Old             46.0            70.0   \n",
       "\n",
       "  Alcohol_Price  \n",
       "0         72.95  \n",
       "1         48.95  \n",
       "2         39.95  \n",
       "3         79.95  \n",
       "4         64.95  "
      ]
     },
     "execution_count": 75,
     "metadata": {},
     "output_type": "execute_result"
    }
   ],
   "source": [
    "product_df.head()"
   ]
  },
  {
   "cell_type": "code",
   "execution_count": 76,
   "metadata": {},
   "outputs": [
    {
     "data": {
      "text/html": [
       "<div>\n",
       "<style scoped>\n",
       "    .dataframe tbody tr th:only-of-type {\n",
       "        vertical-align: middle;\n",
       "    }\n",
       "\n",
       "    .dataframe tbody tr th {\n",
       "        vertical-align: top;\n",
       "    }\n",
       "\n",
       "    .dataframe thead th {\n",
       "        text-align: right;\n",
       "    }\n",
       "</style>\n",
       "<table border=\"1\" class=\"dataframe\">\n",
       "  <thead>\n",
       "    <tr style=\"text-align: right;\">\n",
       "      <th></th>\n",
       "      <th>product_name</th>\n",
       "      <th>alcohol_percent</th>\n",
       "      <th>alcohol_amount</th>\n",
       "      <th>alcohol_price</th>\n",
       "    </tr>\n",
       "  </thead>\n",
       "  <tbody>\n",
       "    <tr>\n",
       "      <th>0</th>\n",
       "      <td>Glen Scotia Victoriana</td>\n",
       "      <td>54.2</td>\n",
       "      <td>70.0</td>\n",
       "      <td>72.95</td>\n",
       "    </tr>\n",
       "    <tr>\n",
       "      <th>1</th>\n",
       "      <td>Glen Scotia Double Cask</td>\n",
       "      <td>46.0</td>\n",
       "      <td>70.0</td>\n",
       "      <td>48.95</td>\n",
       "    </tr>\n",
       "    <tr>\n",
       "      <th>2</th>\n",
       "      <td>Glen Scotia Double Cask</td>\n",
       "      <td>46.0</td>\n",
       "      <td>70.0</td>\n",
       "      <td>39.95</td>\n",
       "    </tr>\n",
       "    <tr>\n",
       "      <th>3</th>\n",
       "      <td>Glen Scotia 12 Year Old Seasonal Release</td>\n",
       "      <td>53.3</td>\n",
       "      <td>70.0</td>\n",
       "      <td>79.95</td>\n",
       "    </tr>\n",
       "    <tr>\n",
       "      <th>4</th>\n",
       "      <td>Glen Scotia 15 Year Old</td>\n",
       "      <td>46.0</td>\n",
       "      <td>70.0</td>\n",
       "      <td>64.95</td>\n",
       "    </tr>\n",
       "  </tbody>\n",
       "</table>\n",
       "</div>"
      ],
      "text/plain": [
       "                               product_name  alcohol_percent  alcohol_amount  \\\n",
       "0                    Glen Scotia Victoriana             54.2            70.0   \n",
       "1                   Glen Scotia Double Cask             46.0            70.0   \n",
       "2                   Glen Scotia Double Cask             46.0            70.0   \n",
       "3  Glen Scotia 12 Year Old Seasonal Release             53.3            70.0   \n",
       "4                   Glen Scotia 15 Year Old             46.0            70.0   \n",
       "\n",
       "  alcohol_price  \n",
       "0         72.95  \n",
       "1         48.95  \n",
       "2         39.95  \n",
       "3         79.95  \n",
       "4         64.95  "
      ]
     },
     "execution_count": 76,
     "metadata": {},
     "output_type": "execute_result"
    }
   ],
   "source": [
    "# renaming columns\n",
    "product_df.columns = [c.lower() for c in product_df.columns]\n",
    "product_df.head()"
   ]
  },
  {
   "cell_type": "code",
   "execution_count": 77,
   "metadata": {},
   "outputs": [],
   "source": [
    "# changing data type of alchocol_price collumn\n",
    "product_df['alcohol_price'] = product_df['alcohol_price'].str.replace(',','').astype('float')"
   ]
  },
  {
   "cell_type": "code",
   "execution_count": 78,
   "metadata": {},
   "outputs": [
    {
     "name": "stdout",
     "output_type": "stream",
     "text": [
      "<class 'pandas.core.frame.DataFrame'>\n",
      "Int64Index: 4382 entries, 0 to 4381\n",
      "Data columns (total 4 columns):\n",
      " #   Column           Non-Null Count  Dtype  \n",
      "---  ------           --------------  -----  \n",
      " 0   product_name     4382 non-null   object \n",
      " 1   alcohol_percent  4382 non-null   float64\n",
      " 2   alcohol_amount   4382 non-null   float64\n",
      " 3   alcohol_price    4382 non-null   float64\n",
      "dtypes: float64(3), object(1)\n",
      "memory usage: 171.2+ KB\n"
     ]
    }
   ],
   "source": [
    "product_df.info()"
   ]
  },
  {
   "cell_type": "code",
   "execution_count": 79,
   "metadata": {},
   "outputs": [
    {
     "data": {
      "text/plain": [
       "array([4, 5, 2, 9, 3, 0, 8, 1, 6, 7], dtype=int64)"
      ]
     },
     "execution_count": 79,
     "metadata": {},
     "output_type": "execute_result"
    }
   ],
   "source": [
    "np.random.default_rng().choice(10, 10, replace=False)"
   ]
  },
  {
   "cell_type": "code",
   "execution_count": 80,
   "metadata": {},
   "outputs": [],
   "source": [
    "# Generate a column of unique product ids\n",
    "product_id = np.random.default_rng().choice(len(product_df.product_name), len(product_df.product_name), replace = False)\n",
    "\n",
    "# Verify that there are as many ids as there are products\n",
    "assert len(set(product_id)) == len(product_df.product_name)\n",
    "\n",
    "# Verify that the new ids are unique\n",
    "assert len(pd.Series(product_id).unique()) == len(product_id)\n",
    "\n",
    "# Insert the new column into the dataframe\n",
    "product_df['product_id'] = product_id"
   ]
  },
  {
   "cell_type": "code",
   "execution_count": 81,
   "metadata": {},
   "outputs": [
    {
     "data": {
      "text/html": [
       "<div>\n",
       "<style scoped>\n",
       "    .dataframe tbody tr th:only-of-type {\n",
       "        vertical-align: middle;\n",
       "    }\n",
       "\n",
       "    .dataframe tbody tr th {\n",
       "        vertical-align: top;\n",
       "    }\n",
       "\n",
       "    .dataframe thead th {\n",
       "        text-align: right;\n",
       "    }\n",
       "</style>\n",
       "<table border=\"1\" class=\"dataframe\">\n",
       "  <thead>\n",
       "    <tr style=\"text-align: right;\">\n",
       "      <th></th>\n",
       "      <th>product_name</th>\n",
       "      <th>alcohol_percent</th>\n",
       "      <th>alcohol_amount</th>\n",
       "      <th>alcohol_price</th>\n",
       "      <th>product_id</th>\n",
       "    </tr>\n",
       "  </thead>\n",
       "  <tbody>\n",
       "    <tr>\n",
       "      <th>0</th>\n",
       "      <td>Glen Scotia Victoriana</td>\n",
       "      <td>54.2</td>\n",
       "      <td>70.0</td>\n",
       "      <td>72.95</td>\n",
       "      <td>565</td>\n",
       "    </tr>\n",
       "    <tr>\n",
       "      <th>1</th>\n",
       "      <td>Glen Scotia Double Cask</td>\n",
       "      <td>46.0</td>\n",
       "      <td>70.0</td>\n",
       "      <td>48.95</td>\n",
       "      <td>2398</td>\n",
       "    </tr>\n",
       "    <tr>\n",
       "      <th>2</th>\n",
       "      <td>Glen Scotia Double Cask</td>\n",
       "      <td>46.0</td>\n",
       "      <td>70.0</td>\n",
       "      <td>39.95</td>\n",
       "      <td>2919</td>\n",
       "    </tr>\n",
       "    <tr>\n",
       "      <th>3</th>\n",
       "      <td>Glen Scotia 12 Year Old Seasonal Release</td>\n",
       "      <td>53.3</td>\n",
       "      <td>70.0</td>\n",
       "      <td>79.95</td>\n",
       "      <td>3606</td>\n",
       "    </tr>\n",
       "    <tr>\n",
       "      <th>4</th>\n",
       "      <td>Glen Scotia 15 Year Old</td>\n",
       "      <td>46.0</td>\n",
       "      <td>70.0</td>\n",
       "      <td>64.95</td>\n",
       "      <td>1371</td>\n",
       "    </tr>\n",
       "  </tbody>\n",
       "</table>\n",
       "</div>"
      ],
      "text/plain": [
       "                               product_name  alcohol_percent  alcohol_amount  \\\n",
       "0                    Glen Scotia Victoriana             54.2            70.0   \n",
       "1                   Glen Scotia Double Cask             46.0            70.0   \n",
       "2                   Glen Scotia Double Cask             46.0            70.0   \n",
       "3  Glen Scotia 12 Year Old Seasonal Release             53.3            70.0   \n",
       "4                   Glen Scotia 15 Year Old             46.0            70.0   \n",
       "\n",
       "   alcohol_price  product_id  \n",
       "0          72.95         565  \n",
       "1          48.95        2398  \n",
       "2          39.95        2919  \n",
       "3          79.95        3606  \n",
       "4          64.95        1371  "
      ]
     },
     "execution_count": 81,
     "metadata": {},
     "output_type": "execute_result"
    }
   ],
   "source": [
    "product_df.head()"
   ]
  },
  {
   "cell_type": "markdown",
   "metadata": {},
   "source": [
    "### Generating Employee Data"
   ]
  },
  {
   "cell_type": "code",
   "execution_count": 82,
   "metadata": {},
   "outputs": [],
   "source": [
    "# Generating 100 Employee Unique id's\n",
    "employee_id = np.random.default_rng().choice(4000, 100, replace = False)\n",
    "\n",
    "# Verify that there are as many ids as there are employees\n",
    "assert len(set(employee_id)) == 100\n",
    "\n",
    "# Verify that the new ids are unique\n",
    "assert len(pd.Series(employee_id).unique()) == len(employee_id)"
   ]
  },
  {
   "cell_type": "code",
   "execution_count": 83,
   "metadata": {},
   "outputs": [],
   "source": [
    "# Generating 100 Employee Data\n",
    "employee_first_name = []\n",
    "employee_last_name = []\n",
    "employee_full_name = []\n",
    "employee_email = []\n",
    "employee_city = []\n",
    "departments = ['Sales', 'Finance', 'Marketing', 'BI']\n",
    "employee_department = []\n",
    "\n",
    "# iterate through the employees and generate random data\n",
    "for i in range(len(employee_id)):\n",
    "    employee_first_name.append(names.get_first_name())\n",
    "    employee_last_name.append(names.get_last_name())\n",
    "    employee_full_name.append(employee_first_name[i] + ' ' + employee_last_name[i])\n",
    "    employee_email.append(employee_first_name[i] + employee_last_name[i][0].lower() + random.choice(['@gmail.com','@mail.ru','@yahoo.com']))\n",
    "    employee_city.append(faker.city())\n",
    "    employee_department.append(np.random.choice(departments, 1)[0])"
   ]
  },
  {
   "cell_type": "code",
   "execution_count": 84,
   "metadata": {},
   "outputs": [],
   "source": [
    "# Create an employee dataframe\n",
    "employee_df = pd.DataFrame(employee_id, columns = ['employee_id'])\n",
    "employee_df['first_name'] = employee_first_name\n",
    "employee_df['last_name'] = employee_last_name\n",
    "employee_df['full_name'] = employee_full_name\n",
    "employee_df['email'] = employee_email\n",
    "employee_df['city'] = employee_city\n",
    "employee_df['department'] = employee_department"
   ]
  },
  {
   "cell_type": "code",
   "execution_count": 85,
   "metadata": {},
   "outputs": [],
   "source": [
    "employee_df.head()\n",
    "employee_df.to_csv('files_for_medium/emp_df.csv')"
   ]
  },
  {
   "cell_type": "markdown",
   "metadata": {},
   "source": [
    "### Generating Customer Data"
   ]
  },
  {
   "cell_type": "code",
   "execution_count": 86,
   "metadata": {},
   "outputs": [],
   "source": [
    "# Generating 1000 Customer Unique id's\n",
    "customer_id = np.random.default_rng().choice(999999, 1000, replace = False)\n",
    "\n",
    "# Verify that there are as many ids as there are customers\n",
    "assert len(set(customer_id)) == 1000\n",
    "\n",
    "# Verify that the new ids are unique\n",
    "assert len(pd.Series(customer_id).unique()) == len(customer_id)"
   ]
  },
  {
   "cell_type": "code",
   "execution_count": 87,
   "metadata": {},
   "outputs": [],
   "source": [
    "# Generating 1000 Customers Data\n",
    "customer_first_name = []\n",
    "customer_last_name = []\n",
    "customer_full_name = []\n",
    "customer_email = []\n",
    "customer_last_four_digits = []\n",
    "customer_country = []\n",
    "customer_country_code = []\n",
    "customer_street = []\n",
    "customer_credit_card_company = []\n",
    "\n",
    "\n",
    "# iterate through the customers and generate random data\n",
    "for i in range(len(customer_id)): \n",
    "    customer_first_name.append(names.get_first_name())\n",
    "    customer_last_name.append(names.get_last_name())\n",
    "    customer_full_name.append(customer_first_name[i] + ' ' + customer_last_name[i])\n",
    "    customer_email.append(customer_first_name[i] + customer_last_name[i][0].lower() + random.choice(['@gmail.com','@mail.ru','@yahoo.com']))\n",
    "    customer_last_four_digits.append(np.random.randint(low = 1000, high = 9999, size = 1)[0])\n",
    "    customer_country.append(faker.country())\n",
    "    customer_country_code.append(customer_country[i][0:3].upper())\n",
    "    customer_street.append(faker.street_address())\n",
    "    customer_credit_card_company.append(faker.credit_card_provider())"
   ]
  },
  {
   "cell_type": "code",
   "execution_count": 88,
   "metadata": {},
   "outputs": [],
   "source": [
    "# Create a customer dataframe\n",
    "customer_df = pd.DataFrame(customer_id, columns = ['customer_id'])\n",
    "customer_df['first_name'] = customer_first_name\n",
    "customer_df['last_name'] = customer_last_name\n",
    "customer_df['full_name'] = customer_full_name\n",
    "customer_df['email'] = customer_email\n",
    "customer_df['country'] = customer_country\n",
    "customer_df['country_code'] = customer_country_code\n",
    "customer_df['street'] = customer_street\n",
    "customer_df['credit_provider'] = customer_credit_card_company\n",
    "customer_df['four_digits'] = customer_last_four_digits"
   ]
  },
  {
   "cell_type": "code",
   "execution_count": 89,
   "metadata": {},
   "outputs": [
    {
     "data": {
      "text/html": [
       "<div>\n",
       "<style scoped>\n",
       "    .dataframe tbody tr th:only-of-type {\n",
       "        vertical-align: middle;\n",
       "    }\n",
       "\n",
       "    .dataframe tbody tr th {\n",
       "        vertical-align: top;\n",
       "    }\n",
       "\n",
       "    .dataframe thead th {\n",
       "        text-align: right;\n",
       "    }\n",
       "</style>\n",
       "<table border=\"1\" class=\"dataframe\">\n",
       "  <thead>\n",
       "    <tr style=\"text-align: right;\">\n",
       "      <th></th>\n",
       "      <th>customer_id</th>\n",
       "      <th>first_name</th>\n",
       "      <th>last_name</th>\n",
       "      <th>full_name</th>\n",
       "      <th>email</th>\n",
       "      <th>country</th>\n",
       "      <th>country_code</th>\n",
       "      <th>street</th>\n",
       "      <th>credit_provider</th>\n",
       "      <th>four_digits</th>\n",
       "    </tr>\n",
       "  </thead>\n",
       "  <tbody>\n",
       "    <tr>\n",
       "      <th>0</th>\n",
       "      <td>502010</td>\n",
       "      <td>Janice</td>\n",
       "      <td>Hare</td>\n",
       "      <td>Janice Hare</td>\n",
       "      <td>Janiceh@gmail.com</td>\n",
       "      <td>Botswana</td>\n",
       "      <td>BOT</td>\n",
       "      <td>9846 Herrera Spur</td>\n",
       "      <td>VISA 16 digit</td>\n",
       "      <td>6764</td>\n",
       "    </tr>\n",
       "    <tr>\n",
       "      <th>1</th>\n",
       "      <td>78215</td>\n",
       "      <td>Carmen</td>\n",
       "      <td>Winchell</td>\n",
       "      <td>Carmen Winchell</td>\n",
       "      <td>Carmenw@mail.ru</td>\n",
       "      <td>Cayman Islands</td>\n",
       "      <td>CAY</td>\n",
       "      <td>38686 Edward Manors Apt. 601</td>\n",
       "      <td>JCB 16 digit</td>\n",
       "      <td>2829</td>\n",
       "    </tr>\n",
       "    <tr>\n",
       "      <th>2</th>\n",
       "      <td>890124</td>\n",
       "      <td>Ann</td>\n",
       "      <td>Martin</td>\n",
       "      <td>Ann Martin</td>\n",
       "      <td>Annm@mail.ru</td>\n",
       "      <td>Brazil</td>\n",
       "      <td>BRA</td>\n",
       "      <td>5920 Nguyen Valley</td>\n",
       "      <td>Maestro</td>\n",
       "      <td>2751</td>\n",
       "    </tr>\n",
       "    <tr>\n",
       "      <th>3</th>\n",
       "      <td>194751</td>\n",
       "      <td>Jackie</td>\n",
       "      <td>Gonzalez</td>\n",
       "      <td>Jackie Gonzalez</td>\n",
       "      <td>Jackieg@mail.ru</td>\n",
       "      <td>Denmark</td>\n",
       "      <td>DEN</td>\n",
       "      <td>616 Robert Run Suite 717</td>\n",
       "      <td>Maestro</td>\n",
       "      <td>3550</td>\n",
       "    </tr>\n",
       "    <tr>\n",
       "      <th>4</th>\n",
       "      <td>266016</td>\n",
       "      <td>Vincent</td>\n",
       "      <td>Archibald</td>\n",
       "      <td>Vincent Archibald</td>\n",
       "      <td>Vincenta@gmail.com</td>\n",
       "      <td>British Virgin Islands</td>\n",
       "      <td>BRI</td>\n",
       "      <td>8625 Lindsay Bypass Apt. 840</td>\n",
       "      <td>Maestro</td>\n",
       "      <td>7521</td>\n",
       "    </tr>\n",
       "  </tbody>\n",
       "</table>\n",
       "</div>"
      ],
      "text/plain": [
       "   customer_id first_name  last_name          full_name               email  \\\n",
       "0       502010     Janice       Hare        Janice Hare   Janiceh@gmail.com   \n",
       "1        78215     Carmen   Winchell    Carmen Winchell     Carmenw@mail.ru   \n",
       "2       890124        Ann     Martin         Ann Martin        Annm@mail.ru   \n",
       "3       194751     Jackie   Gonzalez    Jackie Gonzalez     Jackieg@mail.ru   \n",
       "4       266016    Vincent  Archibald  Vincent Archibald  Vincenta@gmail.com   \n",
       "\n",
       "                  country country_code                        street  \\\n",
       "0                Botswana          BOT             9846 Herrera Spur   \n",
       "1          Cayman Islands          CAY  38686 Edward Manors Apt. 601   \n",
       "2                  Brazil          BRA            5920 Nguyen Valley   \n",
       "3                 Denmark          DEN      616 Robert Run Suite 717   \n",
       "4  British Virgin Islands          BRI  8625 Lindsay Bypass Apt. 840   \n",
       "\n",
       "  credit_provider  four_digits  \n",
       "0   VISA 16 digit         6764  \n",
       "1    JCB 16 digit         2829  \n",
       "2         Maestro         2751  \n",
       "3         Maestro         3550  \n",
       "4         Maestro         7521  "
      ]
     },
     "execution_count": 89,
     "metadata": {},
     "output_type": "execute_result"
    }
   ],
   "source": [
    "customer_df.head()"
   ]
  },
  {
   "cell_type": "markdown",
   "metadata": {},
   "source": [
    "### Generating Payment Data"
   ]
  },
  {
   "cell_type": "code",
   "execution_count": 90,
   "metadata": {},
   "outputs": [],
   "source": [
    "# Generating random days in the range of 1990 to 2020\n",
    "date_range = pd.date_range(start = \"1990-01-01\", end = \"2022-12-31\", freq=\"D\")"
   ]
  },
  {
   "cell_type": "code",
   "execution_count": 91,
   "metadata": {},
   "outputs": [
    {
     "data": {
      "text/plain": [
       "12053"
      ]
     },
     "execution_count": 91,
     "metadata": {},
     "output_type": "execute_result"
    }
   ],
   "source": [
    "len(date_range)"
   ]
  },
  {
   "cell_type": "code",
   "execution_count": 92,
   "metadata": {},
   "outputs": [],
   "source": [
    "# Generating Unique payment id's\n",
    "payment_id = np.random.default_rng().choice(1_000_000, len(date_range), replace = False)\n",
    "\n",
    "# Verify that there are as many ids as there are dates\n",
    "assert len(set(payment_id)) == len(date_range)\n",
    "\n",
    "# Verify that the new ids are unique\n",
    "assert len(pd.Series(payment_id).unique()) == len(payment_id)"
   ]
  },
  {
   "cell_type": "code",
   "execution_count": 93,
   "metadata": {},
   "outputs": [
    {
     "data": {
      "text/plain": [
       "12053"
      ]
     },
     "execution_count": 93,
     "metadata": {},
     "output_type": "execute_result"
    }
   ],
   "source": [
    "len(payment_id)"
   ]
  },
  {
   "cell_type": "code",
   "execution_count": 94,
   "metadata": {},
   "outputs": [],
   "source": [
    "# Generating payments Data\n",
    "customer_id_payments = []\n",
    "employee_id_payments = []\n",
    "product_id_payments = []\n",
    "dates = []\n",
    "\n",
    "\n",
    "# iterate through the payments and generate random data\n",
    "for i in range(len(payment_id)):\n",
    "    dates.append(datetime.strftime(random.choice(date_range), format='%Y-%m-%d'))\n",
    "    customer_id_payments.append(random.choice(customer_id))\n",
    "    employee_id_payments.append(random.choice(employee_id))\n",
    "    product_id_payments.append(random.choice(product_id))"
   ]
  },
  {
   "cell_type": "code",
   "execution_count": 95,
   "metadata": {},
   "outputs": [],
   "source": [
    "# Create a payments dataframe\n",
    "payment_df = pd.DataFrame(payment_id, columns = ['payment_id'])\n",
    "payment_df['date'] = sorted(dates)\n",
    "payment_df['customer_id'] = customer_id_payments\n",
    "payment_df['employee_id'] = employee_id_payments\n",
    "payment_df['product_id'] = product_id_payments"
   ]
  },
  {
   "cell_type": "code",
   "execution_count": 96,
   "metadata": {},
   "outputs": [
    {
     "data": {
      "text/html": [
       "<div>\n",
       "<style scoped>\n",
       "    .dataframe tbody tr th:only-of-type {\n",
       "        vertical-align: middle;\n",
       "    }\n",
       "\n",
       "    .dataframe tbody tr th {\n",
       "        vertical-align: top;\n",
       "    }\n",
       "\n",
       "    .dataframe thead th {\n",
       "        text-align: right;\n",
       "    }\n",
       "</style>\n",
       "<table border=\"1\" class=\"dataframe\">\n",
       "  <thead>\n",
       "    <tr style=\"text-align: right;\">\n",
       "      <th></th>\n",
       "      <th>payment_id</th>\n",
       "      <th>date</th>\n",
       "      <th>customer_id</th>\n",
       "      <th>employee_id</th>\n",
       "      <th>product_id</th>\n",
       "    </tr>\n",
       "  </thead>\n",
       "  <tbody>\n",
       "    <tr>\n",
       "      <th>0</th>\n",
       "      <td>972299</td>\n",
       "      <td>1990-01-01</td>\n",
       "      <td>294813</td>\n",
       "      <td>929</td>\n",
       "      <td>2128</td>\n",
       "    </tr>\n",
       "    <tr>\n",
       "      <th>1</th>\n",
       "      <td>616074</td>\n",
       "      <td>1990-01-02</td>\n",
       "      <td>425087</td>\n",
       "      <td>790</td>\n",
       "      <td>905</td>\n",
       "    </tr>\n",
       "    <tr>\n",
       "      <th>2</th>\n",
       "      <td>240878</td>\n",
       "      <td>1990-01-04</td>\n",
       "      <td>569078</td>\n",
       "      <td>579</td>\n",
       "      <td>1671</td>\n",
       "    </tr>\n",
       "    <tr>\n",
       "      <th>3</th>\n",
       "      <td>364474</td>\n",
       "      <td>1990-01-05</td>\n",
       "      <td>946978</td>\n",
       "      <td>20</td>\n",
       "      <td>614</td>\n",
       "    </tr>\n",
       "    <tr>\n",
       "      <th>4</th>\n",
       "      <td>149395</td>\n",
       "      <td>1990-01-05</td>\n",
       "      <td>137018</td>\n",
       "      <td>3160</td>\n",
       "      <td>3553</td>\n",
       "    </tr>\n",
       "  </tbody>\n",
       "</table>\n",
       "</div>"
      ],
      "text/plain": [
       "   payment_id        date  customer_id  employee_id  product_id\n",
       "0      972299  1990-01-01       294813          929        2128\n",
       "1      616074  1990-01-02       425087          790         905\n",
       "2      240878  1990-01-04       569078          579        1671\n",
       "3      364474  1990-01-05       946978           20         614\n",
       "4      149395  1990-01-05       137018         3160        3553"
      ]
     },
     "execution_count": 96,
     "metadata": {},
     "output_type": "execute_result"
    }
   ],
   "source": [
    "payment_df.head()"
   ]
  },
  {
   "cell_type": "code",
   "execution_count": 97,
   "metadata": {},
   "outputs": [],
   "source": [
    "def sql(query):\n",
    "    return pds.sqldf(query)"
   ]
  },
  {
   "cell_type": "code",
   "execution_count": 98,
   "metadata": {},
   "outputs": [],
   "source": [
    "# Adding the alcohol_price column to the table\n",
    "query = '''\n",
    "select p1.*, \n",
    "p2.alcohol_price as price\n",
    "from payment_df p1\n",
    "inner join product_df p2\n",
    "on p1.product_id = p2.product_id\n",
    "'''\n",
    "\n",
    "payment_df = sql(query)"
   ]
  },
  {
   "cell_type": "code",
   "execution_count": 99,
   "metadata": {},
   "outputs": [
    {
     "data": {
      "text/html": [
       "<div>\n",
       "<style scoped>\n",
       "    .dataframe tbody tr th:only-of-type {\n",
       "        vertical-align: middle;\n",
       "    }\n",
       "\n",
       "    .dataframe tbody tr th {\n",
       "        vertical-align: top;\n",
       "    }\n",
       "\n",
       "    .dataframe thead th {\n",
       "        text-align: right;\n",
       "    }\n",
       "</style>\n",
       "<table border=\"1\" class=\"dataframe\">\n",
       "  <thead>\n",
       "    <tr style=\"text-align: right;\">\n",
       "      <th></th>\n",
       "      <th>payment_id</th>\n",
       "      <th>date</th>\n",
       "      <th>customer_id</th>\n",
       "      <th>employee_id</th>\n",
       "      <th>product_id</th>\n",
       "      <th>price</th>\n",
       "    </tr>\n",
       "  </thead>\n",
       "  <tbody>\n",
       "    <tr>\n",
       "      <th>0</th>\n",
       "      <td>972299</td>\n",
       "      <td>1990-01-01</td>\n",
       "      <td>294813</td>\n",
       "      <td>929</td>\n",
       "      <td>2128</td>\n",
       "      <td>235.00</td>\n",
       "    </tr>\n",
       "    <tr>\n",
       "      <th>1</th>\n",
       "      <td>616074</td>\n",
       "      <td>1990-01-02</td>\n",
       "      <td>425087</td>\n",
       "      <td>790</td>\n",
       "      <td>905</td>\n",
       "      <td>4.45</td>\n",
       "    </tr>\n",
       "    <tr>\n",
       "      <th>2</th>\n",
       "      <td>240878</td>\n",
       "      <td>1990-01-04</td>\n",
       "      <td>569078</td>\n",
       "      <td>579</td>\n",
       "      <td>1671</td>\n",
       "      <td>21.95</td>\n",
       "    </tr>\n",
       "    <tr>\n",
       "      <th>3</th>\n",
       "      <td>364474</td>\n",
       "      <td>1990-01-05</td>\n",
       "      <td>946978</td>\n",
       "      <td>20</td>\n",
       "      <td>614</td>\n",
       "      <td>16.95</td>\n",
       "    </tr>\n",
       "    <tr>\n",
       "      <th>4</th>\n",
       "      <td>149395</td>\n",
       "      <td>1990-01-05</td>\n",
       "      <td>137018</td>\n",
       "      <td>3160</td>\n",
       "      <td>3553</td>\n",
       "      <td>52.95</td>\n",
       "    </tr>\n",
       "  </tbody>\n",
       "</table>\n",
       "</div>"
      ],
      "text/plain": [
       "   payment_id        date  customer_id  employee_id  product_id   price\n",
       "0      972299  1990-01-01       294813          929        2128  235.00\n",
       "1      616074  1990-01-02       425087          790         905    4.45\n",
       "2      240878  1990-01-04       569078          579        1671   21.95\n",
       "3      364474  1990-01-05       946978           20         614   16.95\n",
       "4      149395  1990-01-05       137018         3160        3553   52.95"
      ]
     },
     "execution_count": 99,
     "metadata": {},
     "output_type": "execute_result"
    }
   ],
   "source": [
    "payment_df.head()"
   ]
  },
  {
   "attachments": {},
   "cell_type": "markdown",
   "metadata": {},
   "source": [
    "## Designing the Central RDBMS and Normalizing the Data"
   ]
  },
  {
   "cell_type": "code",
   "execution_count": 100,
   "metadata": {},
   "outputs": [
    {
     "data": {
      "text/html": [
       "<div>\n",
       "<style scoped>\n",
       "    .dataframe tbody tr th:only-of-type {\n",
       "        vertical-align: middle;\n",
       "    }\n",
       "\n",
       "    .dataframe tbody tr th {\n",
       "        vertical-align: top;\n",
       "    }\n",
       "\n",
       "    .dataframe thead th {\n",
       "        text-align: right;\n",
       "    }\n",
       "</style>\n",
       "<table border=\"1\" class=\"dataframe\">\n",
       "  <thead>\n",
       "    <tr style=\"text-align: right;\">\n",
       "      <th></th>\n",
       "      <th>product_name</th>\n",
       "      <th>alcohol_percent</th>\n",
       "      <th>alcohol_amount</th>\n",
       "      <th>alcohol_price</th>\n",
       "      <th>product_id</th>\n",
       "    </tr>\n",
       "  </thead>\n",
       "  <tbody>\n",
       "    <tr>\n",
       "      <th>0</th>\n",
       "      <td>Glen Scotia Victoriana</td>\n",
       "      <td>54.2</td>\n",
       "      <td>70.0</td>\n",
       "      <td>72.95</td>\n",
       "      <td>565</td>\n",
       "    </tr>\n",
       "    <tr>\n",
       "      <th>1</th>\n",
       "      <td>Glen Scotia Double Cask</td>\n",
       "      <td>46.0</td>\n",
       "      <td>70.0</td>\n",
       "      <td>48.95</td>\n",
       "      <td>2398</td>\n",
       "    </tr>\n",
       "    <tr>\n",
       "      <th>2</th>\n",
       "      <td>Glen Scotia Double Cask</td>\n",
       "      <td>46.0</td>\n",
       "      <td>70.0</td>\n",
       "      <td>39.95</td>\n",
       "      <td>2919</td>\n",
       "    </tr>\n",
       "    <tr>\n",
       "      <th>3</th>\n",
       "      <td>Glen Scotia 12 Year Old Seasonal Release</td>\n",
       "      <td>53.3</td>\n",
       "      <td>70.0</td>\n",
       "      <td>79.95</td>\n",
       "      <td>3606</td>\n",
       "    </tr>\n",
       "    <tr>\n",
       "      <th>4</th>\n",
       "      <td>Glen Scotia 15 Year Old</td>\n",
       "      <td>46.0</td>\n",
       "      <td>70.0</td>\n",
       "      <td>64.95</td>\n",
       "      <td>1371</td>\n",
       "    </tr>\n",
       "  </tbody>\n",
       "</table>\n",
       "</div>"
      ],
      "text/plain": [
       "                               product_name  alcohol_percent  alcohol_amount  \\\n",
       "0                    Glen Scotia Victoriana             54.2            70.0   \n",
       "1                   Glen Scotia Double Cask             46.0            70.0   \n",
       "2                   Glen Scotia Double Cask             46.0            70.0   \n",
       "3  Glen Scotia 12 Year Old Seasonal Release             53.3            70.0   \n",
       "4                   Glen Scotia 15 Year Old             46.0            70.0   \n",
       "\n",
       "   alcohol_price  product_id  \n",
       "0          72.95         565  \n",
       "1          48.95        2398  \n",
       "2          39.95        2919  \n",
       "3          79.95        3606  \n",
       "4          64.95        1371  "
      ]
     },
     "execution_count": 100,
     "metadata": {},
     "output_type": "execute_result"
    }
   ],
   "source": [
    "product_df.head()"
   ]
  },
  {
   "cell_type": "code",
   "execution_count": 101,
   "metadata": {},
   "outputs": [
    {
     "data": {
      "text/html": [
       "<div>\n",
       "<style scoped>\n",
       "    .dataframe tbody tr th:only-of-type {\n",
       "        vertical-align: middle;\n",
       "    }\n",
       "\n",
       "    .dataframe tbody tr th {\n",
       "        vertical-align: top;\n",
       "    }\n",
       "\n",
       "    .dataframe thead th {\n",
       "        text-align: right;\n",
       "    }\n",
       "</style>\n",
       "<table border=\"1\" class=\"dataframe\">\n",
       "  <thead>\n",
       "    <tr style=\"text-align: right;\">\n",
       "      <th></th>\n",
       "      <th>employee_id</th>\n",
       "      <th>first_name</th>\n",
       "      <th>last_name</th>\n",
       "      <th>full_name</th>\n",
       "      <th>email</th>\n",
       "      <th>city</th>\n",
       "      <th>department</th>\n",
       "    </tr>\n",
       "  </thead>\n",
       "  <tbody>\n",
       "    <tr>\n",
       "      <th>0</th>\n",
       "      <td>2657</td>\n",
       "      <td>Cathy</td>\n",
       "      <td>Mullen</td>\n",
       "      <td>Cathy Mullen</td>\n",
       "      <td>Cathym@mail.ru</td>\n",
       "      <td>New Alexandra</td>\n",
       "      <td>Marketing</td>\n",
       "    </tr>\n",
       "    <tr>\n",
       "      <th>1</th>\n",
       "      <td>2509</td>\n",
       "      <td>Jeannine</td>\n",
       "      <td>Brumback</td>\n",
       "      <td>Jeannine Brumback</td>\n",
       "      <td>Jeannineb@yahoo.com</td>\n",
       "      <td>Derekshire</td>\n",
       "      <td>Finance</td>\n",
       "    </tr>\n",
       "    <tr>\n",
       "      <th>2</th>\n",
       "      <td>1791</td>\n",
       "      <td>Catherine</td>\n",
       "      <td>Brazill</td>\n",
       "      <td>Catherine Brazill</td>\n",
       "      <td>Catherineb@yahoo.com</td>\n",
       "      <td>East Timothy</td>\n",
       "      <td>Finance</td>\n",
       "    </tr>\n",
       "    <tr>\n",
       "      <th>3</th>\n",
       "      <td>3160</td>\n",
       "      <td>Miriam</td>\n",
       "      <td>Sheehan</td>\n",
       "      <td>Miriam Sheehan</td>\n",
       "      <td>Miriams@gmail.com</td>\n",
       "      <td>West Nicholas</td>\n",
       "      <td>Marketing</td>\n",
       "    </tr>\n",
       "    <tr>\n",
       "      <th>4</th>\n",
       "      <td>2067</td>\n",
       "      <td>Sarah</td>\n",
       "      <td>Beatty</td>\n",
       "      <td>Sarah Beatty</td>\n",
       "      <td>Sarahb@gmail.com</td>\n",
       "      <td>Royfurt</td>\n",
       "      <td>BI</td>\n",
       "    </tr>\n",
       "  </tbody>\n",
       "</table>\n",
       "</div>"
      ],
      "text/plain": [
       "   employee_id first_name last_name          full_name                 email  \\\n",
       "0         2657      Cathy    Mullen       Cathy Mullen        Cathym@mail.ru   \n",
       "1         2509   Jeannine  Brumback  Jeannine Brumback   Jeannineb@yahoo.com   \n",
       "2         1791  Catherine   Brazill  Catherine Brazill  Catherineb@yahoo.com   \n",
       "3         3160     Miriam   Sheehan     Miriam Sheehan     Miriams@gmail.com   \n",
       "4         2067      Sarah    Beatty       Sarah Beatty      Sarahb@gmail.com   \n",
       "\n",
       "            city department  \n",
       "0  New Alexandra  Marketing  \n",
       "1     Derekshire    Finance  \n",
       "2   East Timothy    Finance  \n",
       "3  West Nicholas  Marketing  \n",
       "4        Royfurt         BI  "
      ]
     },
     "execution_count": 101,
     "metadata": {},
     "output_type": "execute_result"
    }
   ],
   "source": [
    "employee_df.head()"
   ]
  },
  {
   "cell_type": "code",
   "execution_count": 102,
   "metadata": {},
   "outputs": [
    {
     "data": {
      "text/html": [
       "<div>\n",
       "<style scoped>\n",
       "    .dataframe tbody tr th:only-of-type {\n",
       "        vertical-align: middle;\n",
       "    }\n",
       "\n",
       "    .dataframe tbody tr th {\n",
       "        vertical-align: top;\n",
       "    }\n",
       "\n",
       "    .dataframe thead th {\n",
       "        text-align: right;\n",
       "    }\n",
       "</style>\n",
       "<table border=\"1\" class=\"dataframe\">\n",
       "  <thead>\n",
       "    <tr style=\"text-align: right;\">\n",
       "      <th></th>\n",
       "      <th>customer_id</th>\n",
       "      <th>first_name</th>\n",
       "      <th>last_name</th>\n",
       "      <th>full_name</th>\n",
       "      <th>email</th>\n",
       "      <th>country</th>\n",
       "      <th>country_code</th>\n",
       "      <th>street</th>\n",
       "      <th>credit_provider</th>\n",
       "      <th>four_digits</th>\n",
       "    </tr>\n",
       "  </thead>\n",
       "  <tbody>\n",
       "    <tr>\n",
       "      <th>0</th>\n",
       "      <td>502010</td>\n",
       "      <td>Janice</td>\n",
       "      <td>Hare</td>\n",
       "      <td>Janice Hare</td>\n",
       "      <td>Janiceh@gmail.com</td>\n",
       "      <td>Botswana</td>\n",
       "      <td>BOT</td>\n",
       "      <td>9846 Herrera Spur</td>\n",
       "      <td>VISA 16 digit</td>\n",
       "      <td>6764</td>\n",
       "    </tr>\n",
       "    <tr>\n",
       "      <th>1</th>\n",
       "      <td>78215</td>\n",
       "      <td>Carmen</td>\n",
       "      <td>Winchell</td>\n",
       "      <td>Carmen Winchell</td>\n",
       "      <td>Carmenw@mail.ru</td>\n",
       "      <td>Cayman Islands</td>\n",
       "      <td>CAY</td>\n",
       "      <td>38686 Edward Manors Apt. 601</td>\n",
       "      <td>JCB 16 digit</td>\n",
       "      <td>2829</td>\n",
       "    </tr>\n",
       "    <tr>\n",
       "      <th>2</th>\n",
       "      <td>890124</td>\n",
       "      <td>Ann</td>\n",
       "      <td>Martin</td>\n",
       "      <td>Ann Martin</td>\n",
       "      <td>Annm@mail.ru</td>\n",
       "      <td>Brazil</td>\n",
       "      <td>BRA</td>\n",
       "      <td>5920 Nguyen Valley</td>\n",
       "      <td>Maestro</td>\n",
       "      <td>2751</td>\n",
       "    </tr>\n",
       "    <tr>\n",
       "      <th>3</th>\n",
       "      <td>194751</td>\n",
       "      <td>Jackie</td>\n",
       "      <td>Gonzalez</td>\n",
       "      <td>Jackie Gonzalez</td>\n",
       "      <td>Jackieg@mail.ru</td>\n",
       "      <td>Denmark</td>\n",
       "      <td>DEN</td>\n",
       "      <td>616 Robert Run Suite 717</td>\n",
       "      <td>Maestro</td>\n",
       "      <td>3550</td>\n",
       "    </tr>\n",
       "    <tr>\n",
       "      <th>4</th>\n",
       "      <td>266016</td>\n",
       "      <td>Vincent</td>\n",
       "      <td>Archibald</td>\n",
       "      <td>Vincent Archibald</td>\n",
       "      <td>Vincenta@gmail.com</td>\n",
       "      <td>British Virgin Islands</td>\n",
       "      <td>BRI</td>\n",
       "      <td>8625 Lindsay Bypass Apt. 840</td>\n",
       "      <td>Maestro</td>\n",
       "      <td>7521</td>\n",
       "    </tr>\n",
       "  </tbody>\n",
       "</table>\n",
       "</div>"
      ],
      "text/plain": [
       "   customer_id first_name  last_name          full_name               email  \\\n",
       "0       502010     Janice       Hare        Janice Hare   Janiceh@gmail.com   \n",
       "1        78215     Carmen   Winchell    Carmen Winchell     Carmenw@mail.ru   \n",
       "2       890124        Ann     Martin         Ann Martin        Annm@mail.ru   \n",
       "3       194751     Jackie   Gonzalez    Jackie Gonzalez     Jackieg@mail.ru   \n",
       "4       266016    Vincent  Archibald  Vincent Archibald  Vincenta@gmail.com   \n",
       "\n",
       "                  country country_code                        street  \\\n",
       "0                Botswana          BOT             9846 Herrera Spur   \n",
       "1          Cayman Islands          CAY  38686 Edward Manors Apt. 601   \n",
       "2                  Brazil          BRA            5920 Nguyen Valley   \n",
       "3                 Denmark          DEN      616 Robert Run Suite 717   \n",
       "4  British Virgin Islands          BRI  8625 Lindsay Bypass Apt. 840   \n",
       "\n",
       "  credit_provider  four_digits  \n",
       "0   VISA 16 digit         6764  \n",
       "1    JCB 16 digit         2829  \n",
       "2         Maestro         2751  \n",
       "3         Maestro         3550  \n",
       "4         Maestro         7521  "
      ]
     },
     "execution_count": 102,
     "metadata": {},
     "output_type": "execute_result"
    }
   ],
   "source": [
    "customer_df.head()"
   ]
  },
  {
   "cell_type": "code",
   "execution_count": 103,
   "metadata": {},
   "outputs": [
    {
     "data": {
      "text/html": [
       "<div>\n",
       "<style scoped>\n",
       "    .dataframe tbody tr th:only-of-type {\n",
       "        vertical-align: middle;\n",
       "    }\n",
       "\n",
       "    .dataframe tbody tr th {\n",
       "        vertical-align: top;\n",
       "    }\n",
       "\n",
       "    .dataframe thead th {\n",
       "        text-align: right;\n",
       "    }\n",
       "</style>\n",
       "<table border=\"1\" class=\"dataframe\">\n",
       "  <thead>\n",
       "    <tr style=\"text-align: right;\">\n",
       "      <th></th>\n",
       "      <th>payment_id</th>\n",
       "      <th>date</th>\n",
       "      <th>customer_id</th>\n",
       "      <th>employee_id</th>\n",
       "      <th>product_id</th>\n",
       "      <th>price</th>\n",
       "    </tr>\n",
       "  </thead>\n",
       "  <tbody>\n",
       "    <tr>\n",
       "      <th>0</th>\n",
       "      <td>972299</td>\n",
       "      <td>1990-01-01</td>\n",
       "      <td>294813</td>\n",
       "      <td>929</td>\n",
       "      <td>2128</td>\n",
       "      <td>235.00</td>\n",
       "    </tr>\n",
       "    <tr>\n",
       "      <th>1</th>\n",
       "      <td>616074</td>\n",
       "      <td>1990-01-02</td>\n",
       "      <td>425087</td>\n",
       "      <td>790</td>\n",
       "      <td>905</td>\n",
       "      <td>4.45</td>\n",
       "    </tr>\n",
       "    <tr>\n",
       "      <th>2</th>\n",
       "      <td>240878</td>\n",
       "      <td>1990-01-04</td>\n",
       "      <td>569078</td>\n",
       "      <td>579</td>\n",
       "      <td>1671</td>\n",
       "      <td>21.95</td>\n",
       "    </tr>\n",
       "    <tr>\n",
       "      <th>3</th>\n",
       "      <td>364474</td>\n",
       "      <td>1990-01-05</td>\n",
       "      <td>946978</td>\n",
       "      <td>20</td>\n",
       "      <td>614</td>\n",
       "      <td>16.95</td>\n",
       "    </tr>\n",
       "    <tr>\n",
       "      <th>4</th>\n",
       "      <td>149395</td>\n",
       "      <td>1990-01-05</td>\n",
       "      <td>137018</td>\n",
       "      <td>3160</td>\n",
       "      <td>3553</td>\n",
       "      <td>52.95</td>\n",
       "    </tr>\n",
       "    <tr>\n",
       "      <th>...</th>\n",
       "      <td>...</td>\n",
       "      <td>...</td>\n",
       "      <td>...</td>\n",
       "      <td>...</td>\n",
       "      <td>...</td>\n",
       "      <td>...</td>\n",
       "    </tr>\n",
       "    <tr>\n",
       "      <th>12048</th>\n",
       "      <td>264269</td>\n",
       "      <td>2022-12-28</td>\n",
       "      <td>94124</td>\n",
       "      <td>2416</td>\n",
       "      <td>4332</td>\n",
       "      <td>6.45</td>\n",
       "    </tr>\n",
       "    <tr>\n",
       "      <th>12049</th>\n",
       "      <td>909468</td>\n",
       "      <td>2022-12-29</td>\n",
       "      <td>444931</td>\n",
       "      <td>2657</td>\n",
       "      <td>626</td>\n",
       "      <td>41.75</td>\n",
       "    </tr>\n",
       "    <tr>\n",
       "      <th>12050</th>\n",
       "      <td>528749</td>\n",
       "      <td>2022-12-29</td>\n",
       "      <td>962382</td>\n",
       "      <td>3520</td>\n",
       "      <td>2919</td>\n",
       "      <td>39.95</td>\n",
       "    </tr>\n",
       "    <tr>\n",
       "      <th>12051</th>\n",
       "      <td>890769</td>\n",
       "      <td>2022-12-31</td>\n",
       "      <td>611988</td>\n",
       "      <td>1225</td>\n",
       "      <td>1006</td>\n",
       "      <td>42.75</td>\n",
       "    </tr>\n",
       "    <tr>\n",
       "      <th>12052</th>\n",
       "      <td>938106</td>\n",
       "      <td>2022-12-31</td>\n",
       "      <td>224864</td>\n",
       "      <td>3143</td>\n",
       "      <td>2777</td>\n",
       "      <td>185.00</td>\n",
       "    </tr>\n",
       "  </tbody>\n",
       "</table>\n",
       "<p>12053 rows × 6 columns</p>\n",
       "</div>"
      ],
      "text/plain": [
       "       payment_id        date  customer_id  employee_id  product_id   price\n",
       "0          972299  1990-01-01       294813          929        2128  235.00\n",
       "1          616074  1990-01-02       425087          790         905    4.45\n",
       "2          240878  1990-01-04       569078          579        1671   21.95\n",
       "3          364474  1990-01-05       946978           20         614   16.95\n",
       "4          149395  1990-01-05       137018         3160        3553   52.95\n",
       "...           ...         ...          ...          ...         ...     ...\n",
       "12048      264269  2022-12-28        94124         2416        4332    6.45\n",
       "12049      909468  2022-12-29       444931         2657         626   41.75\n",
       "12050      528749  2022-12-29       962382         3520        2919   39.95\n",
       "12051      890769  2022-12-31       611988         1225        1006   42.75\n",
       "12052      938106  2022-12-31       224864         3143        2777  185.00\n",
       "\n",
       "[12053 rows x 6 columns]"
      ]
     },
     "execution_count": 103,
     "metadata": {},
     "output_type": "execute_result"
    }
   ],
   "source": [
    "payment_df"
   ]
  },
  {
   "attachments": {},
   "cell_type": "markdown",
   "metadata": {},
   "source": [
    "### Normalizing customer_df table"
   ]
  },
  {
   "attachments": {},
   "cell_type": "markdown",
   "metadata": {},
   "source": [
    "#### First Table — countries"
   ]
  },
  {
   "cell_type": "code",
   "execution_count": 104,
   "metadata": {},
   "outputs": [
    {
     "data": {
      "text/html": [
       "<div>\n",
       "<style scoped>\n",
       "    .dataframe tbody tr th:only-of-type {\n",
       "        vertical-align: middle;\n",
       "    }\n",
       "\n",
       "    .dataframe tbody tr th {\n",
       "        vertical-align: top;\n",
       "    }\n",
       "\n",
       "    .dataframe thead th {\n",
       "        text-align: right;\n",
       "    }\n",
       "</style>\n",
       "<table border=\"1\" class=\"dataframe\">\n",
       "  <thead>\n",
       "    <tr style=\"text-align: right;\">\n",
       "      <th></th>\n",
       "      <th>Country</th>\n",
       "      <th>Country_Code</th>\n",
       "      <th>country_id</th>\n",
       "    </tr>\n",
       "  </thead>\n",
       "  <tbody>\n",
       "    <tr>\n",
       "      <th>231</th>\n",
       "      <td>Russian Federation</td>\n",
       "      <td>RUS</td>\n",
       "      <td>231</td>\n",
       "    </tr>\n",
       "    <tr>\n",
       "      <th>232</th>\n",
       "      <td>France</td>\n",
       "      <td>FRA</td>\n",
       "      <td>232</td>\n",
       "    </tr>\n",
       "    <tr>\n",
       "      <th>233</th>\n",
       "      <td>Mozambique</td>\n",
       "      <td>MOZ</td>\n",
       "      <td>233</td>\n",
       "    </tr>\n",
       "    <tr>\n",
       "      <th>234</th>\n",
       "      <td>India</td>\n",
       "      <td>IND</td>\n",
       "      <td>234</td>\n",
       "    </tr>\n",
       "    <tr>\n",
       "      <th>235</th>\n",
       "      <td>Guam</td>\n",
       "      <td>GUA</td>\n",
       "      <td>235</td>\n",
       "    </tr>\n",
       "  </tbody>\n",
       "</table>\n",
       "</div>"
      ],
      "text/plain": [
       "                Country Country_Code  country_id\n",
       "231  Russian Federation          RUS         231\n",
       "232              France          FRA         232\n",
       "233          Mozambique          MOZ         233\n",
       "234               India          IND         234\n",
       "235                Guam          GUA         235"
      ]
     },
     "execution_count": 104,
     "metadata": {},
     "output_type": "execute_result"
    }
   ],
   "source": [
    "# Creating a new table called countries\n",
    "unique_countries = customer_df.country.unique()\n",
    "countries_df = pd.DataFrame(unique_countries, columns = ['Country'])\n",
    "countries_df['Country_Code'] = countries_df.Country.str[0:3]\n",
    "countries_df['Country_Code'] = countries_df.Country_Code.str.upper()\n",
    "countries_df['country_id'] = [*range(0,len(countries_df))]\n",
    "countries_df.tail()"
   ]
  },
  {
   "cell_type": "code",
   "execution_count": 105,
   "metadata": {},
   "outputs": [],
   "source": [
    "countries_df.to_csv('files_for_medium/countries_df.csv')"
   ]
  },
  {
   "cell_type": "code",
   "execution_count": 106,
   "metadata": {},
   "outputs": [],
   "source": [
    "# Extracting the country_id column from customers\n",
    "query = '''\n",
    "select countries_df.country_id\n",
    "from customer_df \n",
    "join countries_df\n",
    "on \n",
    "    customer_df.country_code = countries_df.country_code and\n",
    "    customer_df.country = countries_df.country\n",
    "'''\n",
    "\n",
    "country_ids = sql(query)\n",
    "\n",
    "\n",
    "# Connecting countries to customers by adding the foregin key: country_id\n",
    "customer_df['country_id'] = country_ids"
   ]
  },
  {
   "cell_type": "code",
   "execution_count": 107,
   "metadata": {},
   "outputs": [
    {
     "data": {
      "text/html": [
       "<div>\n",
       "<style scoped>\n",
       "    .dataframe tbody tr th:only-of-type {\n",
       "        vertical-align: middle;\n",
       "    }\n",
       "\n",
       "    .dataframe tbody tr th {\n",
       "        vertical-align: top;\n",
       "    }\n",
       "\n",
       "    .dataframe thead th {\n",
       "        text-align: right;\n",
       "    }\n",
       "</style>\n",
       "<table border=\"1\" class=\"dataframe\">\n",
       "  <thead>\n",
       "    <tr style=\"text-align: right;\">\n",
       "      <th></th>\n",
       "      <th>customer_id</th>\n",
       "      <th>first_name</th>\n",
       "      <th>last_name</th>\n",
       "      <th>full_name</th>\n",
       "      <th>email</th>\n",
       "      <th>street</th>\n",
       "      <th>credit_provider</th>\n",
       "      <th>four_digits</th>\n",
       "      <th>country_id</th>\n",
       "    </tr>\n",
       "  </thead>\n",
       "  <tbody>\n",
       "    <tr>\n",
       "      <th>0</th>\n",
       "      <td>502010</td>\n",
       "      <td>Janice</td>\n",
       "      <td>Hare</td>\n",
       "      <td>Janice Hare</td>\n",
       "      <td>Janiceh@gmail.com</td>\n",
       "      <td>9846 Herrera Spur</td>\n",
       "      <td>VISA 16 digit</td>\n",
       "      <td>6764</td>\n",
       "      <td>0</td>\n",
       "    </tr>\n",
       "    <tr>\n",
       "      <th>1</th>\n",
       "      <td>78215</td>\n",
       "      <td>Carmen</td>\n",
       "      <td>Winchell</td>\n",
       "      <td>Carmen Winchell</td>\n",
       "      <td>Carmenw@mail.ru</td>\n",
       "      <td>38686 Edward Manors Apt. 601</td>\n",
       "      <td>JCB 16 digit</td>\n",
       "      <td>2829</td>\n",
       "      <td>1</td>\n",
       "    </tr>\n",
       "    <tr>\n",
       "      <th>2</th>\n",
       "      <td>890124</td>\n",
       "      <td>Ann</td>\n",
       "      <td>Martin</td>\n",
       "      <td>Ann Martin</td>\n",
       "      <td>Annm@mail.ru</td>\n",
       "      <td>5920 Nguyen Valley</td>\n",
       "      <td>Maestro</td>\n",
       "      <td>2751</td>\n",
       "      <td>2</td>\n",
       "    </tr>\n",
       "    <tr>\n",
       "      <th>3</th>\n",
       "      <td>194751</td>\n",
       "      <td>Jackie</td>\n",
       "      <td>Gonzalez</td>\n",
       "      <td>Jackie Gonzalez</td>\n",
       "      <td>Jackieg@mail.ru</td>\n",
       "      <td>616 Robert Run Suite 717</td>\n",
       "      <td>Maestro</td>\n",
       "      <td>3550</td>\n",
       "      <td>3</td>\n",
       "    </tr>\n",
       "    <tr>\n",
       "      <th>4</th>\n",
       "      <td>266016</td>\n",
       "      <td>Vincent</td>\n",
       "      <td>Archibald</td>\n",
       "      <td>Vincent Archibald</td>\n",
       "      <td>Vincenta@gmail.com</td>\n",
       "      <td>8625 Lindsay Bypass Apt. 840</td>\n",
       "      <td>Maestro</td>\n",
       "      <td>7521</td>\n",
       "      <td>4</td>\n",
       "    </tr>\n",
       "  </tbody>\n",
       "</table>\n",
       "</div>"
      ],
      "text/plain": [
       "   customer_id first_name  last_name          full_name               email  \\\n",
       "0       502010     Janice       Hare        Janice Hare   Janiceh@gmail.com   \n",
       "1        78215     Carmen   Winchell    Carmen Winchell     Carmenw@mail.ru   \n",
       "2       890124        Ann     Martin         Ann Martin        Annm@mail.ru   \n",
       "3       194751     Jackie   Gonzalez    Jackie Gonzalez     Jackieg@mail.ru   \n",
       "4       266016    Vincent  Archibald  Vincent Archibald  Vincenta@gmail.com   \n",
       "\n",
       "                         street credit_provider  four_digits  country_id  \n",
       "0             9846 Herrera Spur   VISA 16 digit         6764           0  \n",
       "1  38686 Edward Manors Apt. 601    JCB 16 digit         2829           1  \n",
       "2            5920 Nguyen Valley         Maestro         2751           2  \n",
       "3      616 Robert Run Suite 717         Maestro         3550           3  \n",
       "4  8625 Lindsay Bypass Apt. 840         Maestro         7521           4  "
      ]
     },
     "execution_count": 107,
     "metadata": {},
     "output_type": "execute_result"
    }
   ],
   "source": [
    "customer_df = customer_df.drop(['country','country_code'],axis=1)\n",
    "customer_df.head()"
   ]
  },
  {
   "cell_type": "code",
   "execution_count": 108,
   "metadata": {},
   "outputs": [
    {
     "data": {
      "text/html": [
       "<div>\n",
       "<style scoped>\n",
       "    .dataframe tbody tr th:only-of-type {\n",
       "        vertical-align: middle;\n",
       "    }\n",
       "\n",
       "    .dataframe tbody tr th {\n",
       "        vertical-align: top;\n",
       "    }\n",
       "\n",
       "    .dataframe thead th {\n",
       "        text-align: right;\n",
       "    }\n",
       "</style>\n",
       "<table border=\"1\" class=\"dataframe\">\n",
       "  <thead>\n",
       "    <tr style=\"text-align: right;\">\n",
       "      <th></th>\n",
       "      <th>customer_id</th>\n",
       "      <th>first_name</th>\n",
       "      <th>last_name</th>\n",
       "      <th>full_name</th>\n",
       "      <th>email</th>\n",
       "      <th>street</th>\n",
       "      <th>credit_provider</th>\n",
       "      <th>four_digits</th>\n",
       "      <th>country_id</th>\n",
       "    </tr>\n",
       "  </thead>\n",
       "  <tbody>\n",
       "    <tr>\n",
       "      <th>0</th>\n",
       "      <td>502010</td>\n",
       "      <td>Janice</td>\n",
       "      <td>Hare</td>\n",
       "      <td>Janice Hare</td>\n",
       "      <td>Janiceh@gmail.com</td>\n",
       "      <td>9846 Herrera Spur</td>\n",
       "      <td>VISA 16 digit</td>\n",
       "      <td>6764</td>\n",
       "      <td>0</td>\n",
       "    </tr>\n",
       "    <tr>\n",
       "      <th>1</th>\n",
       "      <td>78215</td>\n",
       "      <td>Carmen</td>\n",
       "      <td>Winchell</td>\n",
       "      <td>Carmen Winchell</td>\n",
       "      <td>Carmenw@mail.ru</td>\n",
       "      <td>38686 Edward Manors Apt. 601</td>\n",
       "      <td>JCB 16 digit</td>\n",
       "      <td>2829</td>\n",
       "      <td>1</td>\n",
       "    </tr>\n",
       "    <tr>\n",
       "      <th>2</th>\n",
       "      <td>890124</td>\n",
       "      <td>Ann</td>\n",
       "      <td>Martin</td>\n",
       "      <td>Ann Martin</td>\n",
       "      <td>Annm@mail.ru</td>\n",
       "      <td>5920 Nguyen Valley</td>\n",
       "      <td>Maestro</td>\n",
       "      <td>2751</td>\n",
       "      <td>2</td>\n",
       "    </tr>\n",
       "    <tr>\n",
       "      <th>3</th>\n",
       "      <td>194751</td>\n",
       "      <td>Jackie</td>\n",
       "      <td>Gonzalez</td>\n",
       "      <td>Jackie Gonzalez</td>\n",
       "      <td>Jackieg@mail.ru</td>\n",
       "      <td>616 Robert Run Suite 717</td>\n",
       "      <td>Maestro</td>\n",
       "      <td>3550</td>\n",
       "      <td>3</td>\n",
       "    </tr>\n",
       "    <tr>\n",
       "      <th>4</th>\n",
       "      <td>266016</td>\n",
       "      <td>Vincent</td>\n",
       "      <td>Archibald</td>\n",
       "      <td>Vincent Archibald</td>\n",
       "      <td>Vincenta@gmail.com</td>\n",
       "      <td>8625 Lindsay Bypass Apt. 840</td>\n",
       "      <td>Maestro</td>\n",
       "      <td>7521</td>\n",
       "      <td>4</td>\n",
       "    </tr>\n",
       "  </tbody>\n",
       "</table>\n",
       "</div>"
      ],
      "text/plain": [
       "   customer_id first_name  last_name          full_name               email  \\\n",
       "0       502010     Janice       Hare        Janice Hare   Janiceh@gmail.com   \n",
       "1        78215     Carmen   Winchell    Carmen Winchell     Carmenw@mail.ru   \n",
       "2       890124        Ann     Martin         Ann Martin        Annm@mail.ru   \n",
       "3       194751     Jackie   Gonzalez    Jackie Gonzalez     Jackieg@mail.ru   \n",
       "4       266016    Vincent  Archibald  Vincent Archibald  Vincenta@gmail.com   \n",
       "\n",
       "                         street credit_provider  four_digits  country_id  \n",
       "0             9846 Herrera Spur   VISA 16 digit         6764           0  \n",
       "1  38686 Edward Manors Apt. 601    JCB 16 digit         2829           1  \n",
       "2            5920 Nguyen Valley         Maestro         2751           2  \n",
       "3      616 Robert Run Suite 717         Maestro         3550           3  \n",
       "4  8625 Lindsay Bypass Apt. 840         Maestro         7521           4  "
      ]
     },
     "execution_count": 108,
     "metadata": {},
     "output_type": "execute_result"
    }
   ],
   "source": [
    "customer_df.head()"
   ]
  },
  {
   "cell_type": "code",
   "execution_count": 109,
   "metadata": {},
   "outputs": [],
   "source": [
    "customer_df.to_csv('files_for_medium/customers_country_drop_df.csv')"
   ]
  },
  {
   "attachments": {},
   "cell_type": "markdown",
   "metadata": {},
   "source": [
    "#### Second table - customer_cc"
   ]
  },
  {
   "cell_type": "code",
   "execution_count": 110,
   "metadata": {},
   "outputs": [
    {
     "data": {
      "text/html": [
       "<div>\n",
       "<style scoped>\n",
       "    .dataframe tbody tr th:only-of-type {\n",
       "        vertical-align: middle;\n",
       "    }\n",
       "\n",
       "    .dataframe tbody tr th {\n",
       "        vertical-align: top;\n",
       "    }\n",
       "\n",
       "    .dataframe thead th {\n",
       "        text-align: right;\n",
       "    }\n",
       "</style>\n",
       "<table border=\"1\" class=\"dataframe\">\n",
       "  <thead>\n",
       "    <tr style=\"text-align: right;\">\n",
       "      <th></th>\n",
       "      <th>credit_provider</th>\n",
       "      <th>credit_provider_id</th>\n",
       "    </tr>\n",
       "  </thead>\n",
       "  <tbody>\n",
       "    <tr>\n",
       "      <th>0</th>\n",
       "      <td>VISA 16 digit</td>\n",
       "      <td>0</td>\n",
       "    </tr>\n",
       "    <tr>\n",
       "      <th>1</th>\n",
       "      <td>JCB 16 digit</td>\n",
       "      <td>1</td>\n",
       "    </tr>\n",
       "    <tr>\n",
       "      <th>2</th>\n",
       "      <td>Maestro</td>\n",
       "      <td>2</td>\n",
       "    </tr>\n",
       "    <tr>\n",
       "      <th>3</th>\n",
       "      <td>American Express</td>\n",
       "      <td>3</td>\n",
       "    </tr>\n",
       "    <tr>\n",
       "      <th>4</th>\n",
       "      <td>JCB 15 digit</td>\n",
       "      <td>4</td>\n",
       "    </tr>\n",
       "  </tbody>\n",
       "</table>\n",
       "</div>"
      ],
      "text/plain": [
       "    credit_provider  credit_provider_id\n",
       "0     VISA 16 digit                   0\n",
       "1      JCB 16 digit                   1\n",
       "2           Maestro                   2\n",
       "3  American Express                   3\n",
       "4      JCB 15 digit                   4"
      ]
     },
     "execution_count": 110,
     "metadata": {},
     "output_type": "execute_result"
    }
   ],
   "source": [
    "\n",
    "# Creating a new table called customer_cc\n",
    "unique_cc_providers = customer_df.credit_provider.unique()\n",
    "customer_cc_df = pd.DataFrame(unique_cc_providers, columns = ['credit_provider'])\n",
    "customer_cc_df['credit_provider_id'] = [*range(0,len(customer_cc_df))]\n",
    "customer_cc_df.head()"
   ]
  },
  {
   "cell_type": "code",
   "execution_count": 111,
   "metadata": {},
   "outputs": [],
   "source": [
    "customer_cc_df.to_csv('files_for_medium/cc_df.csv')"
   ]
  },
  {
   "cell_type": "code",
   "execution_count": 112,
   "metadata": {},
   "outputs": [],
   "source": [
    "# Extracting the credit_provider_id column from customers\n",
    "query = '''\n",
    "select customer_cc_df.credit_provider_id\n",
    "from customer_df \n",
    "join customer_cc_df\n",
    "on \n",
    "    customer_df.credit_provider = customer_cc_df.credit_provider\n",
    "'''\n",
    "\n",
    "credit_provider_id = sql(query)\n",
    "\n",
    "# Connecting customer_cc to customers by adding the foregin key: credit_provider_id \n",
    "customer_df['credit_provider_id'] = credit_provider_id\n",
    "\n",
    "# Dropping the column credit_provider\n",
    "customer_df = customer_df.drop(['credit_provider'],axis=1)"
   ]
  },
  {
   "cell_type": "code",
   "execution_count": 113,
   "metadata": {},
   "outputs": [
    {
     "data": {
      "text/html": [
       "<div>\n",
       "<style scoped>\n",
       "    .dataframe tbody tr th:only-of-type {\n",
       "        vertical-align: middle;\n",
       "    }\n",
       "\n",
       "    .dataframe tbody tr th {\n",
       "        vertical-align: top;\n",
       "    }\n",
       "\n",
       "    .dataframe thead th {\n",
       "        text-align: right;\n",
       "    }\n",
       "</style>\n",
       "<table border=\"1\" class=\"dataframe\">\n",
       "  <thead>\n",
       "    <tr style=\"text-align: right;\">\n",
       "      <th></th>\n",
       "      <th>customer_id</th>\n",
       "      <th>first_name</th>\n",
       "      <th>last_name</th>\n",
       "      <th>full_name</th>\n",
       "      <th>email</th>\n",
       "      <th>street</th>\n",
       "      <th>four_digits</th>\n",
       "      <th>country_id</th>\n",
       "      <th>credit_provider_id</th>\n",
       "    </tr>\n",
       "  </thead>\n",
       "  <tbody>\n",
       "    <tr>\n",
       "      <th>0</th>\n",
       "      <td>502010</td>\n",
       "      <td>Janice</td>\n",
       "      <td>Hare</td>\n",
       "      <td>Janice Hare</td>\n",
       "      <td>Janiceh@gmail.com</td>\n",
       "      <td>9846 Herrera Spur</td>\n",
       "      <td>6764</td>\n",
       "      <td>0</td>\n",
       "      <td>0</td>\n",
       "    </tr>\n",
       "    <tr>\n",
       "      <th>1</th>\n",
       "      <td>78215</td>\n",
       "      <td>Carmen</td>\n",
       "      <td>Winchell</td>\n",
       "      <td>Carmen Winchell</td>\n",
       "      <td>Carmenw@mail.ru</td>\n",
       "      <td>38686 Edward Manors Apt. 601</td>\n",
       "      <td>2829</td>\n",
       "      <td>1</td>\n",
       "      <td>1</td>\n",
       "    </tr>\n",
       "    <tr>\n",
       "      <th>2</th>\n",
       "      <td>890124</td>\n",
       "      <td>Ann</td>\n",
       "      <td>Martin</td>\n",
       "      <td>Ann Martin</td>\n",
       "      <td>Annm@mail.ru</td>\n",
       "      <td>5920 Nguyen Valley</td>\n",
       "      <td>2751</td>\n",
       "      <td>2</td>\n",
       "      <td>2</td>\n",
       "    </tr>\n",
       "    <tr>\n",
       "      <th>3</th>\n",
       "      <td>194751</td>\n",
       "      <td>Jackie</td>\n",
       "      <td>Gonzalez</td>\n",
       "      <td>Jackie Gonzalez</td>\n",
       "      <td>Jackieg@mail.ru</td>\n",
       "      <td>616 Robert Run Suite 717</td>\n",
       "      <td>3550</td>\n",
       "      <td>3</td>\n",
       "      <td>2</td>\n",
       "    </tr>\n",
       "    <tr>\n",
       "      <th>4</th>\n",
       "      <td>266016</td>\n",
       "      <td>Vincent</td>\n",
       "      <td>Archibald</td>\n",
       "      <td>Vincent Archibald</td>\n",
       "      <td>Vincenta@gmail.com</td>\n",
       "      <td>8625 Lindsay Bypass Apt. 840</td>\n",
       "      <td>7521</td>\n",
       "      <td>4</td>\n",
       "      <td>2</td>\n",
       "    </tr>\n",
       "  </tbody>\n",
       "</table>\n",
       "</div>"
      ],
      "text/plain": [
       "   customer_id first_name  last_name          full_name               email  \\\n",
       "0       502010     Janice       Hare        Janice Hare   Janiceh@gmail.com   \n",
       "1        78215     Carmen   Winchell    Carmen Winchell     Carmenw@mail.ru   \n",
       "2       890124        Ann     Martin         Ann Martin        Annm@mail.ru   \n",
       "3       194751     Jackie   Gonzalez    Jackie Gonzalez     Jackieg@mail.ru   \n",
       "4       266016    Vincent  Archibald  Vincent Archibald  Vincenta@gmail.com   \n",
       "\n",
       "                         street  four_digits  country_id  credit_provider_id  \n",
       "0             9846 Herrera Spur         6764           0                   0  \n",
       "1  38686 Edward Manors Apt. 601         2829           1                   1  \n",
       "2            5920 Nguyen Valley         2751           2                   2  \n",
       "3      616 Robert Run Suite 717         3550           3                   2  \n",
       "4  8625 Lindsay Bypass Apt. 840         7521           4                   2  "
      ]
     },
     "execution_count": 113,
     "metadata": {},
     "output_type": "execute_result"
    }
   ],
   "source": [
    "customer_df.head()"
   ]
  },
  {
   "attachments": {},
   "cell_type": "markdown",
   "metadata": {},
   "source": [
    "### Third Table - departaments"
   ]
  },
  {
   "cell_type": "code",
   "execution_count": 114,
   "metadata": {},
   "outputs": [
    {
     "data": {
      "text/html": [
       "<div>\n",
       "<style scoped>\n",
       "    .dataframe tbody tr th:only-of-type {\n",
       "        vertical-align: middle;\n",
       "    }\n",
       "\n",
       "    .dataframe tbody tr th {\n",
       "        vertical-align: top;\n",
       "    }\n",
       "\n",
       "    .dataframe thead th {\n",
       "        text-align: right;\n",
       "    }\n",
       "</style>\n",
       "<table border=\"1\" class=\"dataframe\">\n",
       "  <thead>\n",
       "    <tr style=\"text-align: right;\">\n",
       "      <th></th>\n",
       "      <th>employee_id</th>\n",
       "      <th>first_name</th>\n",
       "      <th>last_name</th>\n",
       "      <th>full_name</th>\n",
       "      <th>email</th>\n",
       "      <th>city</th>\n",
       "      <th>department</th>\n",
       "    </tr>\n",
       "  </thead>\n",
       "  <tbody>\n",
       "    <tr>\n",
       "      <th>0</th>\n",
       "      <td>2657</td>\n",
       "      <td>Cathy</td>\n",
       "      <td>Mullen</td>\n",
       "      <td>Cathy Mullen</td>\n",
       "      <td>Cathym@mail.ru</td>\n",
       "      <td>New Alexandra</td>\n",
       "      <td>Marketing</td>\n",
       "    </tr>\n",
       "    <tr>\n",
       "      <th>1</th>\n",
       "      <td>2509</td>\n",
       "      <td>Jeannine</td>\n",
       "      <td>Brumback</td>\n",
       "      <td>Jeannine Brumback</td>\n",
       "      <td>Jeannineb@yahoo.com</td>\n",
       "      <td>Derekshire</td>\n",
       "      <td>Finance</td>\n",
       "    </tr>\n",
       "    <tr>\n",
       "      <th>2</th>\n",
       "      <td>1791</td>\n",
       "      <td>Catherine</td>\n",
       "      <td>Brazill</td>\n",
       "      <td>Catherine Brazill</td>\n",
       "      <td>Catherineb@yahoo.com</td>\n",
       "      <td>East Timothy</td>\n",
       "      <td>Finance</td>\n",
       "    </tr>\n",
       "    <tr>\n",
       "      <th>3</th>\n",
       "      <td>3160</td>\n",
       "      <td>Miriam</td>\n",
       "      <td>Sheehan</td>\n",
       "      <td>Miriam Sheehan</td>\n",
       "      <td>Miriams@gmail.com</td>\n",
       "      <td>West Nicholas</td>\n",
       "      <td>Marketing</td>\n",
       "    </tr>\n",
       "    <tr>\n",
       "      <th>4</th>\n",
       "      <td>2067</td>\n",
       "      <td>Sarah</td>\n",
       "      <td>Beatty</td>\n",
       "      <td>Sarah Beatty</td>\n",
       "      <td>Sarahb@gmail.com</td>\n",
       "      <td>Royfurt</td>\n",
       "      <td>BI</td>\n",
       "    </tr>\n",
       "  </tbody>\n",
       "</table>\n",
       "</div>"
      ],
      "text/plain": [
       "   employee_id first_name last_name          full_name                 email  \\\n",
       "0         2657      Cathy    Mullen       Cathy Mullen        Cathym@mail.ru   \n",
       "1         2509   Jeannine  Brumback  Jeannine Brumback   Jeannineb@yahoo.com   \n",
       "2         1791  Catherine   Brazill  Catherine Brazill  Catherineb@yahoo.com   \n",
       "3         3160     Miriam   Sheehan     Miriam Sheehan     Miriams@gmail.com   \n",
       "4         2067      Sarah    Beatty       Sarah Beatty      Sarahb@gmail.com   \n",
       "\n",
       "            city department  \n",
       "0  New Alexandra  Marketing  \n",
       "1     Derekshire    Finance  \n",
       "2   East Timothy    Finance  \n",
       "3  West Nicholas  Marketing  \n",
       "4        Royfurt         BI  "
      ]
     },
     "execution_count": 114,
     "metadata": {},
     "output_type": "execute_result"
    }
   ],
   "source": [
    "employee_df.head()"
   ]
  },
  {
   "cell_type": "code",
   "execution_count": 115,
   "metadata": {},
   "outputs": [],
   "source": [
    "# Extracting the departments from the employees table\n",
    "departments = pd.Series(employee_df.department.unique()).to_list()\n",
    "\n",
    "# Generating unique department ids\n",
    "department_id = [*range(0, len(departments))]\n",
    "\n",
    "# Creating a table called departments\n",
    "department_df = pd.DataFrame(department_id, columns=['department_id'])\n",
    "department_df['department'] = departments"
   ]
  },
  {
   "cell_type": "code",
   "execution_count": 116,
   "metadata": {},
   "outputs": [],
   "source": [
    "# Extracting the country_id column from customers\n",
    "query = '''\n",
    "select department_df.department_id\n",
    "from employee_df \n",
    "join department_df\n",
    "on \n",
    "    employee_df.department = department_df.department\n",
    "'''\n",
    "\n",
    "department_ids = sql(query)\n",
    "\n",
    "# Connecting countries to customers by adding the foregin key: country_id\n",
    "employee_df['department_id'] = department_ids"
   ]
  },
  {
   "cell_type": "code",
   "execution_count": 117,
   "metadata": {},
   "outputs": [],
   "source": [
    "# Dropping the column department\n",
    "employee_df = employee_df.drop('department',axis = 1)"
   ]
  },
  {
   "cell_type": "code",
   "execution_count": 119,
   "metadata": {},
   "outputs": [],
   "source": [
    "employee_df.head().to_csv('files_for_medium/final_emps.csv')"
   ]
  },
  {
   "attachments": {},
   "cell_type": "markdown",
   "metadata": {},
   "source": [
    "## Loading the data into the central RDBMS"
   ]
  },
  {
   "attachments": {},
   "cell_type": "markdown",
   "metadata": {},
   "source": [
    "### Connecting Python to MySQL"
   ]
  },
  {
   "cell_type": "code",
   "execution_count": 122,
   "metadata": {},
   "outputs": [],
   "source": [
    "# Connecting Python to MySQL\n",
    "import pymysql\n",
    "import pandas as pd\n",
    "\n",
    "import os\n",
    "from dotenv import load_dotenv\n",
    "\n",
    "load_dotenv()\n",
    "\n",
    "mysql_pass = os.getenv('mysql_pass')\n",
    "\n",
    "connection = pymysql.connect(host ='localhost',port=int(3306),user='root',passwd=str(mysql_pass))\n",
    "\n",
    "# # # Creating a cursor object\n",
    "cursor = connection.cursor()"
   ]
  },
  {
   "attachments": {},
   "cell_type": "markdown",
   "metadata": {},
   "source": [
    "### Creating a new Schema"
   ]
  },
  {
   "cell_type": "code",
   "execution_count": 123,
   "metadata": {},
   "outputs": [
    {
     "data": {
      "text/plain": [
       "0"
      ]
     },
     "execution_count": 123,
     "metadata": {},
     "output_type": "execute_result"
    }
   ],
   "source": [
    "# Create a new schema called whiskey_shop\n",
    "cursor.execute('''\n",
    "drop schema if exists whiskey_retail_shop;\n",
    "''')\n",
    "\n",
    "cursor.execute('''\n",
    "create schema whiskey_retail_shop;\n",
    "''')\n",
    "\n",
    "# Use the new schema\n",
    "cursor.execute('''\n",
    "use whiskey_retail_shop;\n",
    "''')"
   ]
  },
  {
   "attachments": {},
   "cell_type": "markdown",
   "metadata": {},
   "source": [
    "### Creating empty tables"
   ]
  },
  {
   "cell_type": "code",
   "execution_count": 124,
   "metadata": {},
   "outputs": [
    {
     "data": {
      "text/plain": [
       "0"
      ]
     },
     "execution_count": 124,
     "metadata": {},
     "output_type": "execute_result"
    }
   ],
   "source": [
    "cursor.execute('''\n",
    "DROP TABLE IF EXISTS countries;\n",
    "''')\n",
    "\n",
    "cursor.execute('''\n",
    "CREATE TABLE countries (\n",
    "    Country VARCHAR(100) NOT NULL,\n",
    "    Country_Code VARCHAR(100) NOT NULL,\n",
    "    country_id INT PRIMARY KEY\n",
    "    );\n",
    "''')"
   ]
  },
  {
   "cell_type": "code",
   "execution_count": 125,
   "metadata": {},
   "outputs": [
    {
     "data": {
      "text/plain": [
       "0"
      ]
     },
     "execution_count": 125,
     "metadata": {},
     "output_type": "execute_result"
    }
   ],
   "source": [
    "cursor.execute('''\n",
    "DROP TABLE IF EXISTS customer_cc;\n",
    "''')\n",
    "\n",
    "cursor.execute('''\n",
    "CREATE TABLE customer_cc (\n",
    "    credit_provider VARCHAR(100) NOT NULL,\n",
    "    credit_provider_id INT PRIMARY KEY\n",
    "    );\n",
    "''')"
   ]
  },
  {
   "cell_type": "code",
   "execution_count": 126,
   "metadata": {},
   "outputs": [
    {
     "data": {
      "text/plain": [
       "0"
      ]
     },
     "execution_count": 126,
     "metadata": {},
     "output_type": "execute_result"
    }
   ],
   "source": [
    "cursor.execute('''\n",
    "DROP TABLE IF EXISTS products;\n",
    "''')\n",
    "\n",
    "cursor.execute('''\n",
    "CREATE TABLE products (\n",
    "    Product_Name VARCHAR(100) NOT NULL,\n",
    "    Alcohol_Percent FLOAT NOT NULL,\n",
    "    Alcohol_Amount FLOAT NOT NULL,\n",
    "    Alcohol_Price FLOAT NOT NULL,\n",
    "    product_id int NOT NULL PRIMARY KEY\n",
    "    );\n",
    "''')"
   ]
  },
  {
   "cell_type": "code",
   "execution_count": 127,
   "metadata": {},
   "outputs": [
    {
     "data": {
      "text/plain": [
       "0"
      ]
     },
     "execution_count": 127,
     "metadata": {},
     "output_type": "execute_result"
    }
   ],
   "source": [
    "cursor.execute('''\n",
    "DROP TABLE IF EXISTS departments;\n",
    "''')\n",
    "\n",
    "cursor.execute('''\n",
    "CREATE TABLE departments (\n",
    "    department_id INT PRIMARY KEY,\n",
    "    department VARCHAR(100) NOT NULL\n",
    "    );\n",
    "''')"
   ]
  },
  {
   "cell_type": "code",
   "execution_count": 128,
   "metadata": {},
   "outputs": [
    {
     "data": {
      "text/plain": [
       "0"
      ]
     },
     "execution_count": 128,
     "metadata": {},
     "output_type": "execute_result"
    }
   ],
   "source": [
    "cursor.execute('''\n",
    "DROP TABLE IF EXISTS customers;\n",
    "''')\n",
    "\n",
    "cursor.execute('''\n",
    "CREATE TABLE customers (\n",
    "    customer_id INT PRIMARY KEY NOT NULL,\n",
    "    first_name VARCHAR(100) NOT NULL,\n",
    "    last_name VARCHAR(100) NOT NULL,\n",
    "    full_name VARCHAR(100) NOT NULL,\n",
    "    email VARCHAR(100) NOT NULL,\n",
    "    street VARCHAR(100) NOT NULL,\n",
    "    four_digits INT NOT NULL,\n",
    "    country_id INT NOT NULL,\n",
    "    credit_provider_id INT NOT NULL,\n",
    "    \n",
    "    FOREIGN KEY (country_id) REFERENCES countries (country_id),\n",
    "    FOREIGN KEY (credit_provider_id) REFERENCES customer_cc (credit_provider_id)\n",
    ");\n",
    "''')"
   ]
  },
  {
   "cell_type": "code",
   "execution_count": 129,
   "metadata": {},
   "outputs": [
    {
     "data": {
      "text/plain": [
       "0"
      ]
     },
     "execution_count": 129,
     "metadata": {},
     "output_type": "execute_result"
    }
   ],
   "source": [
    "cursor.execute('''\n",
    "DROP TABLE IF EXISTS employees;\n",
    "''')\n",
    "\n",
    "cursor.execute('''\n",
    "CREATE TABLE employees (\n",
    "    employee_id INT PRIMARY KEY NOT NULL,\n",
    "    first_name VARCHAR(100) NOT NULL,\n",
    "    last_name VARCHAR(100) NOT NULL,\n",
    "    full_name VARCHAR(100) NOT NULL,\n",
    "    email VARCHAR(100) NOT NULL,\n",
    "    city VARCHAR(100) NOT NULL,\n",
    "    department_id INT NOT NULL,\n",
    "    \n",
    "    FOREIGN KEY (department_id) REFERENCES departments(department_id)\n",
    ");\n",
    "''')"
   ]
  },
  {
   "cell_type": "code",
   "execution_count": 130,
   "metadata": {},
   "outputs": [
    {
     "data": {
      "text/plain": [
       "0"
      ]
     },
     "execution_count": 130,
     "metadata": {},
     "output_type": "execute_result"
    }
   ],
   "source": [
    "cursor.execute('''\n",
    "DROP TABLE IF EXISTS payments;\n",
    "''')\n",
    "\n",
    "cursor.execute('''\n",
    "CREATE TABLE payments (\n",
    "    payment_id INT NOT NULL PRIMARY KEY,\n",
    "    date DATE NOT NULL,\n",
    "    customer_id INT NOT NULL,\n",
    "    employee_id INT NOT NULL,\n",
    "    product_id INT NOT NULL,\n",
    "    price FLOAT NOT NULL,\n",
    "\n",
    "    FOREIGN KEY (customer_id) REFERENCES customers(customer_id),\n",
    "    FOREIGN KEY (employee_id) REFERENCES employees(employee_id),\n",
    "    FOREIGN KEY (product_id) REFERENCES products(product_id)\n",
    "    );\n",
    "''')"
   ]
  },
  {
   "attachments": {},
   "cell_type": "markdown",
   "metadata": {},
   "source": [
    "### Populating the tables"
   ]
  },
  {
   "cell_type": "code",
   "execution_count": 131,
   "metadata": {},
   "outputs": [],
   "source": [
    "# Convert the Dataframe into a list of arrays\n",
    "records = countries_df.to_records(index=False)\n",
    "\n",
    "# Convert the list of arrays into a tuple of tuples\n",
    "result = tuple(records)\n",
    "\n",
    "for data in range(0,len(result)):\n",
    "    \n",
    "    # Create a new record\n",
    "    query = \"insert into countries (country, country_code, country_id) values {}\".format(result[data])\n",
    "    \n",
    "    # Execute the query\n",
    "    cursor.execute(query)\n",
    "    \n",
    "    \n",
    "# Commit the transaction\n",
    "connection.commit()"
   ]
  },
  {
   "cell_type": "code",
   "execution_count": 132,
   "metadata": {},
   "outputs": [],
   "source": [
    "# Convert the Dataframe into a list of arrays\n",
    "records = customer_cc_df.to_records(index=False)\n",
    "\n",
    "# Convert the list of arrays into a tuple of tuples\n",
    "result = tuple(records)\n",
    "\n",
    "for data in range(0,len(result)):\n",
    "    \n",
    "    # Create a new record\n",
    "    query = \"insert into customer_cc (credit_provider, credit_provider_id) values {}\".format(result[data])\n",
    "    \n",
    "    # Execute the query\n",
    "    cursor.execute(query)\n",
    "    \n",
    "    \n",
    "# Commit the transaction\n",
    "connection.commit()"
   ]
  },
  {
   "cell_type": "code",
   "execution_count": 133,
   "metadata": {},
   "outputs": [],
   "source": [
    "# Convert the Dataframe into a list of arrays\n",
    "records = product_df.to_records(index=False)\n",
    "\n",
    "# Convert the list of arrays into a tuple of tuples\n",
    "result = tuple(records)\n",
    "\n",
    "for data in range(0,len(result)):\n",
    "    \n",
    "    # Create a new record\n",
    "    query = \"insert into products (Product_Name, Alcohol_Percent, Alcohol_Amount, Alcohol_Price,product_id) values {}\".format(result[data])\n",
    "    \n",
    "    # Execute the query\n",
    "    cursor.execute(query)\n",
    "    \n",
    "    \n",
    "# Commit the transaction\n",
    "connection.commit()"
   ]
  },
  {
   "cell_type": "code",
   "execution_count": 134,
   "metadata": {},
   "outputs": [],
   "source": [
    "# Convert the Dataframe into a list of arrays\n",
    "records = department_df.to_records(index=False)\n",
    "\n",
    "# Convert the list of arrays into a tuple of tuples\n",
    "result = tuple(records)\n",
    "\n",
    "for data in range(0,len(result)):\n",
    "    \n",
    "    # Create a new record\n",
    "    query = \"insert into departments (department_id, department) values {}\".format(result[data])\n",
    "    \n",
    "    # Execute the query\n",
    "    cursor.execute(query)\n",
    "    \n",
    "    \n",
    "# Commit the transaction\n",
    "connection.commit()"
   ]
  },
  {
   "cell_type": "code",
   "execution_count": 135,
   "metadata": {},
   "outputs": [],
   "source": [
    "# Convert the Dataframe into a list of arrays\n",
    "records = customer_df.to_records(index=False)\n",
    "\n",
    "# Convert the list of arrays into a tuple of tuples\n",
    "result = tuple(records)\n",
    "\n",
    "for data in range(0,len(result)):\n",
    "    \n",
    "    # Create a new record\n",
    "    query = \"insert into customers (customer_id, first_name, last_name, full_name, email, street, four_digits, country_id, credit_provider_id) values {}\".format(result[data])\n",
    "    \n",
    "    # Execute the query\n",
    "    cursor.execute(query)\n",
    "    \n",
    "    \n",
    "# Commit the transaction\n",
    "connection.commit()"
   ]
  },
  {
   "cell_type": "code",
   "execution_count": 136,
   "metadata": {},
   "outputs": [],
   "source": [
    "# Convert the Dataframe into a list of arrays\n",
    "records = employee_df.to_records(index=False)\n",
    "\n",
    "# Convert the list of arrays into a tuple of tuples\n",
    "result = tuple(records)\n",
    "\n",
    "for data in range(0,len(result)):\n",
    "    \n",
    "    # Create a new record\n",
    "    query = \"insert into employees (employee_id, first_name, last_name, full_name,email,city, department_id) values {}\".format(result[data])\n",
    "    \n",
    "    # Execute the query\n",
    "    cursor.execute(query)\n",
    "    \n",
    "    \n",
    "# Commit the transaction\n",
    "connection.commit()"
   ]
  },
  {
   "cell_type": "code",
   "execution_count": 137,
   "metadata": {},
   "outputs": [],
   "source": [
    "# Convert the Dataframe into a list of arrays\n",
    "records = payment_df.to_records(index=False)\n",
    "\n",
    "# Convert the list of arrays into a tuple of tuples\n",
    "result = tuple(records)\n",
    "\n",
    "for data in range(0,len(result)):\n",
    "    \n",
    "    # Create a new record\n",
    "    query = \"insert into payments (payment_id, date,customer_id,employee_id,product_id,price) values {}\".format(result[data])\n",
    "    \n",
    "    # Execute the query\n",
    "    cursor.execute(query)\n",
    "    \n",
    "    \n",
    "# Commit the transaction\n",
    "connection.commit()"
   ]
  },
  {
   "cell_type": "code",
   "execution_count": 138,
   "metadata": {},
   "outputs": [],
   "source": [
    "customer_df.to_csv('files_for_medium\\customer_df.csv')"
   ]
  },
  {
   "cell_type": "code",
   "execution_count": null,
   "metadata": {},
   "outputs": [],
   "source": []
  },
  {
   "cell_type": "code",
   "execution_count": null,
   "metadata": {},
   "outputs": [],
   "source": []
  }
 ],
 "metadata": {
  "kernelspec": {
   "display_name": "Python 3.9.6 ('menv': venv)",
   "language": "python",
   "name": "python3"
  },
  "language_info": {
   "codemirror_mode": {
    "name": "ipython",
    "version": 3
   },
   "file_extension": ".py",
   "mimetype": "text/x-python",
   "name": "python",
   "nbconvert_exporter": "python",
   "pygments_lexer": "ipython3",
   "version": "3.9.6"
  },
  "orig_nbformat": 4,
  "vscode": {
   "interpreter": {
    "hash": "9d3bcb5c2f18a42bd532fbc620268ad35f968f9a4c7cbf3b53b923a2e02c0598"
   }
  }
 },
 "nbformat": 4,
 "nbformat_minor": 2
}
